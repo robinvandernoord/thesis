{
  "nbformat": 4,
  "nbformat_minor": 0,
  "metadata": {
    "accelerator": "GPU",
    "colab": {
      "name": "Thesis_final.ipynb",
      "provenance": [],
      "collapsed_sections": [
        "S3gGStu01cp5"
      ],
      "toc_visible": true,
      "include_colab_link": true
    },
    "kernelspec": {
      "display_name": "Python 3",
      "name": "python3"
    },
    "language_info": {
      "name": "python"
    }
  },
  "cells": [
    {
      "cell_type": "markdown",
      "metadata": {
        "id": "view-in-github",
        "colab_type": "text"
      },
      "source": [
        "<a href=\"https://colab.research.google.com/github/robinvandernoord/thesis/blob/master/Thesis_final.ipynb\" target=\"_parent\"><img src=\"https://colab.research.google.com/assets/colab-badge.svg\" alt=\"Open In Colab\"/></a>"
      ]
    },
    {
      "cell_type": "code",
      "metadata": {
        "colab": {
          "base_uri": "https://localhost:8080/"
        },
        "id": "hsMiBtqr2yyb",
        "outputId": "2f7ddba1-5a50-4bea-8e69-db8f0699d74c"
      },
      "source": [
        "# get gpu specs\n",
        "!nvidia-smi\n",
        "# Tesla K80  = bad\n",
        "# Tesla T4   = good\n",
        "# Tesla P100 = good\n",
        "# Tesla V100 = very good"
      ],
      "execution_count": null,
      "outputs": [
        {
          "output_type": "stream",
          "text": [
            "Wed Jun  9 14:05:36 2021       \n",
            "+-----------------------------------------------------------------------------+\n",
            "| NVIDIA-SMI 465.27       Driver Version: 460.32.03    CUDA Version: 11.2     |\n",
            "|-------------------------------+----------------------+----------------------+\n",
            "| GPU  Name        Persistence-M| Bus-Id        Disp.A | Volatile Uncorr. ECC |\n",
            "| Fan  Temp  Perf  Pwr:Usage/Cap|         Memory-Usage | GPU-Util  Compute M. |\n",
            "|                               |                      |               MIG M. |\n",
            "|===============================+======================+======================|\n",
            "|   0  Tesla P100-PCIE...  Off  | 00000000:00:04.0 Off |                    0 |\n",
            "| N/A   34C    P0    27W / 250W |      0MiB / 16280MiB |      0%      Default |\n",
            "|                               |                      |                  N/A |\n",
            "+-------------------------------+----------------------+----------------------+\n",
            "                                                                               \n",
            "+-----------------------------------------------------------------------------+\n",
            "| Processes:                                                                  |\n",
            "|  GPU   GI   CI        PID   Type   Process name                  GPU Memory |\n",
            "|        ID   ID                                                   Usage      |\n",
            "|=============================================================================|\n",
            "|  No running processes found                                                 |\n",
            "+-----------------------------------------------------------------------------+\n"
          ],
          "name": "stdout"
        }
      ]
    },
    {
      "cell_type": "code",
      "metadata": {
        "id": "1AglB7Q8bSMW",
        "colab": {
          "base_uri": "https://localhost:8080/",
          "height": 1000
        },
        "outputId": "ecf4b102-732d-4cd3-9931-c5c9247f7211"
      },
      "source": [
        "!pip install simpletransformers pyyaml --upgrade"
      ],
      "execution_count": null,
      "outputs": [
        {
          "output_type": "stream",
          "text": [
            "Collecting simpletransformers\n",
            "\u001b[?25l  Downloading https://files.pythonhosted.org/packages/cf/2b/9073313586a8cdd7997b2f4ed43c0a44d9c484013b51f77c1c0f034dd78b/simpletransformers-0.61.6-py3-none-any.whl (220kB)\n",
            "\r\u001b[K     |█▌                              | 10kB 24.5MB/s eta 0:00:01\r\u001b[K     |███                             | 20kB 22.9MB/s eta 0:00:01\r\u001b[K     |████▌                           | 30kB 16.8MB/s eta 0:00:01\r\u001b[K     |██████                          | 40kB 14.8MB/s eta 0:00:01\r\u001b[K     |███████▍                        | 51kB 8.4MB/s eta 0:00:01\r\u001b[K     |█████████                       | 61kB 8.4MB/s eta 0:00:01\r\u001b[K     |██████████▍                     | 71kB 8.7MB/s eta 0:00:01\r\u001b[K     |███████████▉                    | 81kB 9.6MB/s eta 0:00:01\r\u001b[K     |█████████████▍                  | 92kB 10.1MB/s eta 0:00:01\r\u001b[K     |██████████████▉                 | 102kB 8.3MB/s eta 0:00:01\r\u001b[K     |████████████████▎               | 112kB 8.3MB/s eta 0:00:01\r\u001b[K     |█████████████████▉              | 122kB 8.3MB/s eta 0:00:01\r\u001b[K     |███████████████████▎            | 133kB 8.3MB/s eta 0:00:01\r\u001b[K     |████████████████████▉           | 143kB 8.3MB/s eta 0:00:01\r\u001b[K     |██████████████████████▎         | 153kB 8.3MB/s eta 0:00:01\r\u001b[K     |███████████████████████▊        | 163kB 8.3MB/s eta 0:00:01\r\u001b[K     |█████████████████████████▎      | 174kB 8.3MB/s eta 0:00:01\r\u001b[K     |██████████████████████████▊     | 184kB 8.3MB/s eta 0:00:01\r\u001b[K     |████████████████████████████▏   | 194kB 8.3MB/s eta 0:00:01\r\u001b[K     |█████████████████████████████▊  | 204kB 8.3MB/s eta 0:00:01\r\u001b[K     |███████████████████████████████▏| 215kB 8.3MB/s eta 0:00:01\r\u001b[K     |████████████████████████████████| 225kB 8.3MB/s \n",
            "\u001b[?25hCollecting pyyaml\n",
            "\u001b[?25l  Downloading https://files.pythonhosted.org/packages/7a/a5/393c087efdc78091afa2af9f1378762f9821c9c1d7a22c5753fb5ac5f97a/PyYAML-5.4.1-cp37-cp37m-manylinux1_x86_64.whl (636kB)\n",
            "\u001b[K     |████████████████████████████████| 645kB 46.7MB/s \n",
            "\u001b[?25hCollecting datasets\n",
            "\u001b[?25l  Downloading https://files.pythonhosted.org/packages/08/a2/d4e1024c891506e1cee8f9d719d20831bac31cb5b7416983c4d2f65a6287/datasets-1.8.0-py3-none-any.whl (237kB)\n",
            "\u001b[K     |████████████████████████████████| 245kB 58.7MB/s \n",
            "\u001b[?25hCollecting seqeval\n",
            "\u001b[?25l  Downloading https://files.pythonhosted.org/packages/9d/2d/233c79d5b4e5ab1dbf111242299153f3caddddbb691219f363ad55ce783d/seqeval-1.2.2.tar.gz (43kB)\n",
            "\u001b[K     |████████████████████████████████| 51kB 9.2MB/s \n",
            "\u001b[?25hCollecting tokenizers\n",
            "\u001b[?25l  Downloading https://files.pythonhosted.org/packages/d4/e2/df3543e8ffdab68f5acc73f613de9c2b155ac47f162e725dcac87c521c11/tokenizers-0.10.3-cp37-cp37m-manylinux_2_5_x86_64.manylinux1_x86_64.manylinux_2_12_x86_64.manylinux2010_x86_64.whl (3.3MB)\n",
            "\u001b[K     |████████████████████████████████| 3.3MB 41.0MB/s \n",
            "\u001b[?25hCollecting streamlit\n",
            "\u001b[?25l  Downloading https://files.pythonhosted.org/packages/04/11/57097e14f72a2d1b2a1bbe86c2a8bc375661bfd5c30b5e8cee7c2fad9a44/streamlit-0.82.0-py2.py3-none-any.whl (8.2MB)\n",
            "\u001b[K     |████████████████████████████████| 8.2MB 43.5MB/s \n",
            "\u001b[?25hRequirement already satisfied, skipping upgrade: requests in /usr/local/lib/python3.7/dist-packages (from simpletransformers) (2.23.0)\n",
            "Requirement already satisfied, skipping upgrade: scipy in /usr/local/lib/python3.7/dist-packages (from simpletransformers) (1.4.1)\n",
            "Requirement already satisfied, skipping upgrade: regex in /usr/local/lib/python3.7/dist-packages (from simpletransformers) (2019.12.20)\n",
            "Requirement already satisfied, skipping upgrade: numpy in /usr/local/lib/python3.7/dist-packages (from simpletransformers) (1.19.5)\n",
            "Collecting sentencepiece\n",
            "\u001b[?25l  Downloading https://files.pythonhosted.org/packages/f5/99/e0808cb947ba10f575839c43e8fafc9cc44e4a7a2c8f79c60db48220a577/sentencepiece-0.1.95-cp37-cp37m-manylinux2014_x86_64.whl (1.2MB)\n",
            "\u001b[K     |████████████████████████████████| 1.2MB 34.1MB/s \n",
            "\u001b[?25hCollecting tensorboardx\n",
            "\u001b[?25l  Downloading https://files.pythonhosted.org/packages/07/84/46421bd3e0e89a92682b1a38b40efc22dafb6d8e3d947e4ceefd4a5fabc7/tensorboardX-2.2-py2.py3-none-any.whl (120kB)\n",
            "\u001b[K     |████████████████████████████████| 122kB 57.1MB/s \n",
            "\u001b[?25hCollecting wandb\n",
            "\u001b[?25l  Downloading https://files.pythonhosted.org/packages/6c/48/b199e2b3b341ac842108c5db4956091dd75d961cfa77aceb033e99cac20f/wandb-0.10.31-py2.py3-none-any.whl (1.8MB)\n",
            "\u001b[K     |████████████████████████████████| 1.8MB 42.7MB/s \n",
            "\u001b[?25hRequirement already satisfied, skipping upgrade: scikit-learn in /usr/local/lib/python3.7/dist-packages (from simpletransformers) (0.22.2.post1)\n",
            "Collecting transformers>=4.2.0\n",
            "\u001b[?25l  Downloading https://files.pythonhosted.org/packages/d5/43/cfe4ee779bbd6a678ac6a97c5a5cdeb03c35f9eaebbb9720b036680f9a2d/transformers-4.6.1-py3-none-any.whl (2.2MB)\n",
            "\u001b[K     |████████████████████████████████| 2.3MB 41.4MB/s \n",
            "\u001b[?25hCollecting tqdm>=4.47.0\n",
            "\u001b[?25l  Downloading https://files.pythonhosted.org/packages/42/d7/f357d98e9b50346bcb6095fe3ad205d8db3174eb5edb03edfe7c4099576d/tqdm-4.61.0-py2.py3-none-any.whl (75kB)\n",
            "\u001b[K     |████████████████████████████████| 81kB 12.2MB/s \n",
            "\u001b[?25hRequirement already satisfied, skipping upgrade: pandas in /usr/local/lib/python3.7/dist-packages (from simpletransformers) (1.1.5)\n",
            "Requirement already satisfied, skipping upgrade: multiprocess in /usr/local/lib/python3.7/dist-packages (from datasets->simpletransformers) (0.70.11.1)\n",
            "Requirement already satisfied, skipping upgrade: pyarrow<4.0.0,>=1.0.0 in /usr/local/lib/python3.7/dist-packages (from datasets->simpletransformers) (3.0.0)\n",
            "Collecting xxhash\n",
            "\u001b[?25l  Downloading https://files.pythonhosted.org/packages/7d/4f/0a862cad26aa2ed7a7cd87178cbbfa824fc1383e472d63596a0d018374e7/xxhash-2.0.2-cp37-cp37m-manylinux2010_x86_64.whl (243kB)\n",
            "\u001b[K     |████████████████████████████████| 245kB 54.3MB/s \n",
            "\u001b[?25hRequirement already satisfied, skipping upgrade: dill in /usr/local/lib/python3.7/dist-packages (from datasets->simpletransformers) (0.3.3)\n",
            "Collecting fsspec\n",
            "\u001b[?25l  Downloading https://files.pythonhosted.org/packages/8e/d2/d05466997f7751a2c06a7a416b7d1f131d765f7916698d3fdcb3a4d037e5/fsspec-2021.6.0-py3-none-any.whl (114kB)\n",
            "\u001b[K     |████████████████████████████████| 122kB 59.8MB/s \n",
            "\u001b[?25hRequirement already satisfied, skipping upgrade: importlib-metadata; python_version < \"3.8\" in /usr/local/lib/python3.7/dist-packages (from datasets->simpletransformers) (4.0.1)\n",
            "Requirement already satisfied, skipping upgrade: packaging in /usr/local/lib/python3.7/dist-packages (from datasets->simpletransformers) (20.9)\n",
            "Collecting huggingface-hub<0.1.0\n",
            "  Downloading https://files.pythonhosted.org/packages/3c/e3/fb7b6aefaf0fc7b792cebbbd590b1895c022ab0ff27f389e1019c6f2e68a/huggingface_hub-0.0.10-py3-none-any.whl\n",
            "Collecting pydeck>=0.1.dev5\n",
            "\u001b[?25l  Downloading https://files.pythonhosted.org/packages/d6/bc/f0e44828e4290367c869591d50d3671a4d0ee94926da6cb734b7b200308c/pydeck-0.6.2-py2.py3-none-any.whl (4.2MB)\n",
            "\u001b[K     |████████████████████████████████| 4.2MB 48.1MB/s \n",
            "\u001b[?25hCollecting blinker\n",
            "\u001b[?25l  Downloading https://files.pythonhosted.org/packages/1b/51/e2a9f3b757eb802f61dc1f2b09c8c99f6eb01cf06416c0671253536517b6/blinker-1.4.tar.gz (111kB)\n",
            "\u001b[K     |████████████████████████████████| 112kB 60.3MB/s \n",
            "\u001b[?25hRequirement already satisfied, skipping upgrade: tornado>=5.0 in /usr/local/lib/python3.7/dist-packages (from streamlit->simpletransformers) (5.1.1)\n",
            "Requirement already satisfied, skipping upgrade: toml in /usr/local/lib/python3.7/dist-packages (from streamlit->simpletransformers) (0.10.2)\n",
            "Collecting watchdog; platform_system != \"Darwin\"\n",
            "\u001b[?25l  Downloading https://files.pythonhosted.org/packages/f2/5b/36b3b11e557830de6fc1dc06e9aa3ee274119b8cea9cc98175dbbf72cf87/watchdog-2.1.2-py3-none-manylinux2014_x86_64.whl (74kB)\n",
            "\u001b[K     |████████████████████████████████| 81kB 10.0MB/s \n",
            "\u001b[?25hRequirement already satisfied, skipping upgrade: astor in /usr/local/lib/python3.7/dist-packages (from streamlit->simpletransformers) (0.8.1)\n",
            "Collecting base58\n",
            "  Downloading https://files.pythonhosted.org/packages/b8/a1/d9f565e9910c09fd325dc638765e8843a19fa696275c16cc08cf3b0a3c25/base58-2.1.0-py3-none-any.whl\n",
            "Requirement already satisfied, skipping upgrade: altair>=3.2.0 in /usr/local/lib/python3.7/dist-packages (from streamlit->simpletransformers) (4.1.0)\n",
            "Requirement already satisfied, skipping upgrade: python-dateutil in /usr/local/lib/python3.7/dist-packages (from streamlit->simpletransformers) (2.8.1)\n",
            "Requirement already satisfied, skipping upgrade: pillow>=6.2.0 in /usr/local/lib/python3.7/dist-packages (from streamlit->simpletransformers) (7.1.2)\n",
            "Requirement already satisfied, skipping upgrade: tzlocal in /usr/local/lib/python3.7/dist-packages (from streamlit->simpletransformers) (1.5.1)\n",
            "Collecting validators\n",
            "  Downloading https://files.pythonhosted.org/packages/db/2f/7fed3ee94ad665ad2c1de87f858f10a7785251ff75b4fd47987888d07ef1/validators-0.18.2-py3-none-any.whl\n",
            "Collecting gitpython\n",
            "\u001b[?25l  Downloading https://files.pythonhosted.org/packages/27/da/6f6224fdfc47dab57881fe20c0d1bc3122be290198ba0bf26a953a045d92/GitPython-3.1.17-py3-none-any.whl (166kB)\n",
            "\u001b[K     |████████████████████████████████| 174kB 59.8MB/s \n",
            "\u001b[?25hRequirement already satisfied, skipping upgrade: protobuf!=3.11,>=3.6.0 in /usr/local/lib/python3.7/dist-packages (from streamlit->simpletransformers) (3.12.4)\n",
            "Requirement already satisfied, skipping upgrade: cachetools>=4.0 in /usr/local/lib/python3.7/dist-packages (from streamlit->simpletransformers) (4.2.2)\n",
            "Requirement already satisfied, skipping upgrade: click<8.0,>=7.0 in /usr/local/lib/python3.7/dist-packages (from streamlit->simpletransformers) (7.1.2)\n",
            "Requirement already satisfied, skipping upgrade: certifi>=2017.4.17 in /usr/local/lib/python3.7/dist-packages (from requests->simpletransformers) (2020.12.5)\n",
            "Requirement already satisfied, skipping upgrade: idna<3,>=2.5 in /usr/local/lib/python3.7/dist-packages (from requests->simpletransformers) (2.10)\n",
            "Requirement already satisfied, skipping upgrade: urllib3!=1.25.0,!=1.25.1,<1.26,>=1.21.1 in /usr/local/lib/python3.7/dist-packages (from requests->simpletransformers) (1.24.3)\n",
            "Requirement already satisfied, skipping upgrade: chardet<4,>=3.0.2 in /usr/local/lib/python3.7/dist-packages (from requests->simpletransformers) (3.0.4)\n",
            "Collecting configparser>=3.8.1\n",
            "  Downloading https://files.pythonhosted.org/packages/fd/01/ff260a18caaf4457eb028c96eeb405c4a230ca06c8ec9c1379f813caa52e/configparser-5.0.2-py3-none-any.whl\n",
            "Collecting shortuuid>=0.5.0\n",
            "  Downloading https://files.pythonhosted.org/packages/25/a6/2ecc1daa6a304e7f1b216f0896b26156b78e7c38e1211e9b798b4716c53d/shortuuid-1.0.1-py3-none-any.whl\n",
            "Collecting pathtools\n",
            "  Downloading https://files.pythonhosted.org/packages/e7/7f/470d6fcdf23f9f3518f6b0b76be9df16dcc8630ad409947f8be2eb0ed13a/pathtools-0.1.2.tar.gz\n",
            "Collecting subprocess32>=3.5.3\n",
            "\u001b[?25l  Downloading https://files.pythonhosted.org/packages/32/c8/564be4d12629b912ea431f1a50eb8b3b9d00f1a0b1ceff17f266be190007/subprocess32-3.5.4.tar.gz (97kB)\n",
            "\u001b[K     |████████████████████████████████| 102kB 13.1MB/s \n",
            "\u001b[?25hCollecting sentry-sdk>=0.4.0\n",
            "\u001b[?25l  Downloading https://files.pythonhosted.org/packages/1c/4a/a54b254f67d8f4052338d54ebe90126f200693440a93ef76d254d581e3ec/sentry_sdk-1.1.0-py2.py3-none-any.whl (131kB)\n",
            "\u001b[K     |████████████████████████████████| 133kB 57.4MB/s \n",
            "\u001b[?25hCollecting docker-pycreds>=0.4.0\n",
            "  Downloading https://files.pythonhosted.org/packages/f5/e8/f6bd1eee09314e7e6dee49cbe2c5e22314ccdb38db16c9fc72d2fa80d054/docker_pycreds-0.4.0-py2.py3-none-any.whl\n",
            "Requirement already satisfied, skipping upgrade: promise<3,>=2.0 in /usr/local/lib/python3.7/dist-packages (from wandb->simpletransformers) (2.3)\n",
            "Requirement already satisfied, skipping upgrade: six>=1.13.0 in /usr/local/lib/python3.7/dist-packages (from wandb->simpletransformers) (1.15.0)\n",
            "Requirement already satisfied, skipping upgrade: psutil>=5.0.0 in /usr/local/lib/python3.7/dist-packages (from wandb->simpletransformers) (5.4.8)\n",
            "Requirement already satisfied, skipping upgrade: joblib>=0.11 in /usr/local/lib/python3.7/dist-packages (from scikit-learn->simpletransformers) (1.0.1)\n",
            "Collecting sacremoses\n",
            "\u001b[?25l  Downloading https://files.pythonhosted.org/packages/75/ee/67241dc87f266093c533a2d4d3d69438e57d7a90abb216fa076e7d475d4a/sacremoses-0.0.45-py3-none-any.whl (895kB)\n",
            "\u001b[K     |████████████████████████████████| 901kB 57.3MB/s \n",
            "\u001b[?25hRequirement already satisfied, skipping upgrade: filelock in /usr/local/lib/python3.7/dist-packages (from transformers>=4.2.0->simpletransformers) (3.0.12)\n",
            "Requirement already satisfied, skipping upgrade: pytz>=2017.2 in /usr/local/lib/python3.7/dist-packages (from pandas->simpletransformers) (2018.9)\n",
            "Requirement already satisfied, skipping upgrade: typing-extensions>=3.6.4; python_version < \"3.8\" in /usr/local/lib/python3.7/dist-packages (from importlib-metadata; python_version < \"3.8\"->datasets->simpletransformers) (3.7.4.3)\n",
            "Requirement already satisfied, skipping upgrade: zipp>=0.5 in /usr/local/lib/python3.7/dist-packages (from importlib-metadata; python_version < \"3.8\"->datasets->simpletransformers) (3.4.1)\n",
            "Requirement already satisfied, skipping upgrade: pyparsing>=2.0.2 in /usr/local/lib/python3.7/dist-packages (from packaging->datasets->simpletransformers) (2.4.7)\n",
            "Collecting ipykernel>=5.1.2; python_version >= \"3.4\"\n",
            "\u001b[?25l  Downloading https://files.pythonhosted.org/packages/90/6d/6c8fe4b658f77947d4244ce81f60230c4c8d1dc1a21ae83e63b269339178/ipykernel-5.5.5-py3-none-any.whl (120kB)\n",
            "\u001b[K     |████████████████████████████████| 122kB 47.8MB/s \n",
            "\u001b[?25hRequirement already satisfied, skipping upgrade: traitlets>=4.3.2 in /usr/local/lib/python3.7/dist-packages (from pydeck>=0.1.dev5->streamlit->simpletransformers) (5.0.5)\n",
            "Requirement already satisfied, skipping upgrade: ipywidgets>=7.0.0 in /usr/local/lib/python3.7/dist-packages (from pydeck>=0.1.dev5->streamlit->simpletransformers) (7.6.3)\n",
            "Requirement already satisfied, skipping upgrade: jinja2>=2.10.1 in /usr/local/lib/python3.7/dist-packages (from pydeck>=0.1.dev5->streamlit->simpletransformers) (2.11.3)\n",
            "Requirement already satisfied, skipping upgrade: entrypoints in /usr/local/lib/python3.7/dist-packages (from altair>=3.2.0->streamlit->simpletransformers) (0.3)\n",
            "Requirement already satisfied, skipping upgrade: toolz in /usr/local/lib/python3.7/dist-packages (from altair>=3.2.0->streamlit->simpletransformers) (0.11.1)\n",
            "Requirement already satisfied, skipping upgrade: jsonschema in /usr/local/lib/python3.7/dist-packages (from altair>=3.2.0->streamlit->simpletransformers) (2.6.0)\n",
            "Requirement already satisfied, skipping upgrade: decorator>=3.4.0 in /usr/local/lib/python3.7/dist-packages (from validators->streamlit->simpletransformers) (4.4.2)\n",
            "Collecting gitdb<5,>=4.0.1\n",
            "\u001b[?25l  Downloading https://files.pythonhosted.org/packages/ea/e8/f414d1a4f0bbc668ed441f74f44c116d9816833a48bf81d22b697090dba8/gitdb-4.0.7-py3-none-any.whl (63kB)\n",
            "\u001b[K     |████████████████████████████████| 71kB 11.7MB/s \n",
            "\u001b[?25hRequirement already satisfied, skipping upgrade: setuptools in /usr/local/lib/python3.7/dist-packages (from protobuf!=3.11,>=3.6.0->streamlit->simpletransformers) (57.0.0)\n",
            "Requirement already satisfied, skipping upgrade: ipython>=5.0.0 in /usr/local/lib/python3.7/dist-packages (from ipykernel>=5.1.2; python_version >= \"3.4\"->pydeck>=0.1.dev5->streamlit->simpletransformers) (5.5.0)\n",
            "Requirement already satisfied, skipping upgrade: jupyter-client in /usr/local/lib/python3.7/dist-packages (from ipykernel>=5.1.2; python_version >= \"3.4\"->pydeck>=0.1.dev5->streamlit->simpletransformers) (5.3.5)\n",
            "Requirement already satisfied, skipping upgrade: ipython-genutils in /usr/local/lib/python3.7/dist-packages (from traitlets>=4.3.2->pydeck>=0.1.dev5->streamlit->simpletransformers) (0.2.0)\n",
            "Requirement already satisfied, skipping upgrade: widgetsnbextension~=3.5.0 in /usr/local/lib/python3.7/dist-packages (from ipywidgets>=7.0.0->pydeck>=0.1.dev5->streamlit->simpletransformers) (3.5.1)\n",
            "Requirement already satisfied, skipping upgrade: nbformat>=4.2.0 in /usr/local/lib/python3.7/dist-packages (from ipywidgets>=7.0.0->pydeck>=0.1.dev5->streamlit->simpletransformers) (5.1.3)\n",
            "Requirement already satisfied, skipping upgrade: jupyterlab-widgets>=1.0.0; python_version >= \"3.6\" in /usr/local/lib/python3.7/dist-packages (from ipywidgets>=7.0.0->pydeck>=0.1.dev5->streamlit->simpletransformers) (1.0.0)\n",
            "Requirement already satisfied, skipping upgrade: MarkupSafe>=0.23 in /usr/local/lib/python3.7/dist-packages (from jinja2>=2.10.1->pydeck>=0.1.dev5->streamlit->simpletransformers) (2.0.1)\n",
            "Collecting smmap<5,>=3.0.1\n",
            "  Downloading https://files.pythonhosted.org/packages/68/ee/d540eb5e5996eb81c26ceffac6ee49041d473bc5125f2aa995cf51ec1cf1/smmap-4.0.0-py2.py3-none-any.whl\n",
            "Requirement already satisfied, skipping upgrade: pexpect; sys_platform != \"win32\" in /usr/local/lib/python3.7/dist-packages (from ipython>=5.0.0->ipykernel>=5.1.2; python_version >= \"3.4\"->pydeck>=0.1.dev5->streamlit->simpletransformers) (4.8.0)\n",
            "Requirement already satisfied, skipping upgrade: simplegeneric>0.8 in /usr/local/lib/python3.7/dist-packages (from ipython>=5.0.0->ipykernel>=5.1.2; python_version >= \"3.4\"->pydeck>=0.1.dev5->streamlit->simpletransformers) (0.8.1)\n",
            "Requirement already satisfied, skipping upgrade: pickleshare in /usr/local/lib/python3.7/dist-packages (from ipython>=5.0.0->ipykernel>=5.1.2; python_version >= \"3.4\"->pydeck>=0.1.dev5->streamlit->simpletransformers) (0.7.5)\n",
            "Requirement already satisfied, skipping upgrade: prompt-toolkit<2.0.0,>=1.0.4 in /usr/local/lib/python3.7/dist-packages (from ipython>=5.0.0->ipykernel>=5.1.2; python_version >= \"3.4\"->pydeck>=0.1.dev5->streamlit->simpletransformers) (1.0.18)\n",
            "Requirement already satisfied, skipping upgrade: pygments in /usr/local/lib/python3.7/dist-packages (from ipython>=5.0.0->ipykernel>=5.1.2; python_version >= \"3.4\"->pydeck>=0.1.dev5->streamlit->simpletransformers) (2.6.1)\n",
            "Requirement already satisfied, skipping upgrade: pyzmq>=13 in /usr/local/lib/python3.7/dist-packages (from jupyter-client->ipykernel>=5.1.2; python_version >= \"3.4\"->pydeck>=0.1.dev5->streamlit->simpletransformers) (22.0.3)\n",
            "Requirement already satisfied, skipping upgrade: jupyter-core>=4.6.0 in /usr/local/lib/python3.7/dist-packages (from jupyter-client->ipykernel>=5.1.2; python_version >= \"3.4\"->pydeck>=0.1.dev5->streamlit->simpletransformers) (4.7.1)\n",
            "Requirement already satisfied, skipping upgrade: notebook>=4.4.1 in /usr/local/lib/python3.7/dist-packages (from widgetsnbextension~=3.5.0->ipywidgets>=7.0.0->pydeck>=0.1.dev5->streamlit->simpletransformers) (5.3.1)\n",
            "Requirement already satisfied, skipping upgrade: ptyprocess>=0.5 in /usr/local/lib/python3.7/dist-packages (from pexpect; sys_platform != \"win32\"->ipython>=5.0.0->ipykernel>=5.1.2; python_version >= \"3.4\"->pydeck>=0.1.dev5->streamlit->simpletransformers) (0.7.0)\n",
            "Requirement already satisfied, skipping upgrade: wcwidth in /usr/local/lib/python3.7/dist-packages (from prompt-toolkit<2.0.0,>=1.0.4->ipython>=5.0.0->ipykernel>=5.1.2; python_version >= \"3.4\"->pydeck>=0.1.dev5->streamlit->simpletransformers) (0.2.5)\n",
            "Requirement already satisfied, skipping upgrade: terminado>=0.8.1 in /usr/local/lib/python3.7/dist-packages (from notebook>=4.4.1->widgetsnbextension~=3.5.0->ipywidgets>=7.0.0->pydeck>=0.1.dev5->streamlit->simpletransformers) (0.10.0)\n",
            "Requirement already satisfied, skipping upgrade: nbconvert in /usr/local/lib/python3.7/dist-packages (from notebook>=4.4.1->widgetsnbextension~=3.5.0->ipywidgets>=7.0.0->pydeck>=0.1.dev5->streamlit->simpletransformers) (5.6.1)\n",
            "Requirement already satisfied, skipping upgrade: Send2Trash in /usr/local/lib/python3.7/dist-packages (from notebook>=4.4.1->widgetsnbextension~=3.5.0->ipywidgets>=7.0.0->pydeck>=0.1.dev5->streamlit->simpletransformers) (1.5.0)\n",
            "Requirement already satisfied, skipping upgrade: mistune<2,>=0.8.1 in /usr/local/lib/python3.7/dist-packages (from nbconvert->notebook>=4.4.1->widgetsnbextension~=3.5.0->ipywidgets>=7.0.0->pydeck>=0.1.dev5->streamlit->simpletransformers) (0.8.4)\n",
            "Requirement already satisfied, skipping upgrade: defusedxml in /usr/local/lib/python3.7/dist-packages (from nbconvert->notebook>=4.4.1->widgetsnbextension~=3.5.0->ipywidgets>=7.0.0->pydeck>=0.1.dev5->streamlit->simpletransformers) (0.7.1)\n",
            "Requirement already satisfied, skipping upgrade: testpath in /usr/local/lib/python3.7/dist-packages (from nbconvert->notebook>=4.4.1->widgetsnbextension~=3.5.0->ipywidgets>=7.0.0->pydeck>=0.1.dev5->streamlit->simpletransformers) (0.5.0)\n",
            "Requirement already satisfied, skipping upgrade: bleach in /usr/local/lib/python3.7/dist-packages (from nbconvert->notebook>=4.4.1->widgetsnbextension~=3.5.0->ipywidgets>=7.0.0->pydeck>=0.1.dev5->streamlit->simpletransformers) (3.3.0)\n",
            "Requirement already satisfied, skipping upgrade: pandocfilters>=1.4.1 in /usr/local/lib/python3.7/dist-packages (from nbconvert->notebook>=4.4.1->widgetsnbextension~=3.5.0->ipywidgets>=7.0.0->pydeck>=0.1.dev5->streamlit->simpletransformers) (1.4.3)\n",
            "Requirement already satisfied, skipping upgrade: webencodings in /usr/local/lib/python3.7/dist-packages (from bleach->nbconvert->notebook>=4.4.1->widgetsnbextension~=3.5.0->ipywidgets>=7.0.0->pydeck>=0.1.dev5->streamlit->simpletransformers) (0.5.1)\n",
            "Building wheels for collected packages: seqeval, blinker, pathtools, subprocess32\n",
            "  Building wheel for seqeval (setup.py) ... \u001b[?25l\u001b[?25hdone\n",
            "  Created wheel for seqeval: filename=seqeval-1.2.2-cp37-none-any.whl size=16184 sha256=49fab9d11672158b869c1fca4835f27cb7fe27f507f3fccc546783e22a92be49\n",
            "  Stored in directory: /root/.cache/pip/wheels/52/df/1b/45d75646c37428f7e626214704a0e35bd3cfc32eda37e59e5f\n",
            "  Building wheel for blinker (setup.py) ... \u001b[?25l\u001b[?25hdone\n",
            "  Created wheel for blinker: filename=blinker-1.4-cp37-none-any.whl size=13476 sha256=c098aa02ffaef1ff4fb8f78fe7d4820a2e163713bdac59e98c1b4f83be8c1819\n",
            "  Stored in directory: /root/.cache/pip/wheels/92/a0/00/8690a57883956a301d91cf4ec999cc0b258b01e3f548f86e89\n",
            "  Building wheel for pathtools (setup.py) ... \u001b[?25l\u001b[?25hdone\n",
            "  Created wheel for pathtools: filename=pathtools-0.1.2-cp37-none-any.whl size=8807 sha256=fc145f6f5cd0e402f83be6df4e273b3d6aef7a04c73ed62ab29bb1e93aa206f3\n",
            "  Stored in directory: /root/.cache/pip/wheels/0b/04/79/c3b0c3a0266a3cb4376da31e5bfe8bba0c489246968a68e843\n",
            "  Building wheel for subprocess32 (setup.py) ... \u001b[?25l\u001b[?25hdone\n",
            "  Created wheel for subprocess32: filename=subprocess32-3.5.4-cp37-none-any.whl size=6502 sha256=8472e59dd23373ed4d3361165eea9640f6660f8ccc06363f3f7eb337795cd33a\n",
            "  Stored in directory: /root/.cache/pip/wheels/68/39/1a/5e402bdfdf004af1786c8b853fd92f8c4a04f22aad179654d1\n",
            "Successfully built seqeval blinker pathtools subprocess32\n",
            "\u001b[31mERROR: google-colab 1.0.0 has requirement ipykernel~=4.10, but you'll have ipykernel 5.5.5 which is incompatible.\u001b[0m\n",
            "\u001b[31mERROR: datasets 1.8.0 has requirement tqdm<4.50.0,>=4.27, but you'll have tqdm 4.61.0 which is incompatible.\u001b[0m\n",
            "\u001b[31mERROR: transformers 4.6.1 has requirement huggingface-hub==0.0.8, but you'll have huggingface-hub 0.0.10 which is incompatible.\u001b[0m\n",
            "Installing collected packages: tqdm, xxhash, fsspec, huggingface-hub, datasets, seqeval, tokenizers, ipykernel, pydeck, blinker, watchdog, base58, validators, smmap, gitdb, gitpython, streamlit, sentencepiece, tensorboardx, configparser, shortuuid, pyyaml, pathtools, subprocess32, sentry-sdk, docker-pycreds, wandb, sacremoses, transformers, simpletransformers\n",
            "  Found existing installation: tqdm 4.41.1\n",
            "    Uninstalling tqdm-4.41.1:\n",
            "      Successfully uninstalled tqdm-4.41.1\n",
            "  Found existing installation: ipykernel 4.10.1\n",
            "    Uninstalling ipykernel-4.10.1:\n",
            "      Successfully uninstalled ipykernel-4.10.1\n",
            "  Found existing installation: PyYAML 3.13\n",
            "    Uninstalling PyYAML-3.13:\n",
            "      Successfully uninstalled PyYAML-3.13\n",
            "Successfully installed base58-2.1.0 blinker-1.4 configparser-5.0.2 datasets-1.8.0 docker-pycreds-0.4.0 fsspec-2021.6.0 gitdb-4.0.7 gitpython-3.1.17 huggingface-hub-0.0.10 ipykernel-5.5.5 pathtools-0.1.2 pydeck-0.6.2 pyyaml-5.4.1 sacremoses-0.0.45 sentencepiece-0.1.95 sentry-sdk-1.1.0 seqeval-1.2.2 shortuuid-1.0.1 simpletransformers-0.61.6 smmap-4.0.0 streamlit-0.82.0 subprocess32-3.5.4 tensorboardx-2.2 tokenizers-0.10.3 tqdm-4.61.0 transformers-4.6.1 validators-0.18.2 wandb-0.10.31 watchdog-2.1.2 xxhash-2.0.2\n"
          ],
          "name": "stdout"
        },
        {
          "output_type": "display_data",
          "data": {
            "application/vnd.colab-display-data+json": {
              "pip_warning": {
                "packages": [
                  "ipykernel"
                ]
              }
            }
          },
          "metadata": {
            "tags": []
          }
        }
      ]
    },
    {
      "cell_type": "code",
      "metadata": {
        "colab": {
          "base_uri": "https://localhost:8080/"
        },
        "id": "p7GavHH2ZTsV",
        "outputId": "eb9f3b9d-d74e-41a6-fd92-cc96bf6afbc6"
      },
      "source": [
        "# imports\n",
        "\n",
        "# default libs:\n",
        "import csv\n",
        "import os\n",
        "import numpy as np\n",
        "import pandas as pd\n",
        "import random\n",
        "import sys\n",
        "import warnings\n",
        "import datetime\n",
        "import yaml\n",
        "import unicodedata\n",
        "import requests\n",
        "import math\n",
        "import re\n",
        "import logging\n",
        "import collections\n",
        "from collections import defaultdict\n",
        "from pprint import pprint\n",
        "\n",
        "# preproc.\n",
        "import nltk\n",
        "import nltk.classify\n",
        "from nltk.classify.scikitlearn import SklearnClassifier\n",
        "from nltk.tokenize import word_tokenize\n",
        "from nltk.collocations import BigramCollocationFinder\n",
        "from nltk.metrics import BigramAssocMeasures\n",
        "from nltk import word_tokenize\n",
        "from nltk.corpus import stopwords\n",
        "from nltk.stem import WordNetLemmatizer\n",
        "\n",
        "# Dummy, SVM and metrics: \n",
        "import sklearn.metrics\n",
        "from sklearn.dummy import DummyClassifier\n",
        "# from sklearn.model_selection import train_test_split\n",
        "from sklearn.svm import LinearSVC\n",
        "from sklearn.metrics import confusion_matrix\n",
        "\n",
        "# visualization\n",
        "import matplotlib.pyplot as plt\n",
        "import seaborn as sns\n",
        "from matplotlib.colors import LogNorm\n",
        "sb = sns\n",
        "\n",
        "# BiLSTM\n",
        "import gensim\n",
        "import tensorflow as tf\n",
        "from keras.models import Sequential\n",
        "from keras.layers import Dense, LSTM, Dropout, Bidirectional\n",
        "from keras.layers.embeddings import Embedding\n",
        "from keras.preprocessing.sequence import pad_sequences\n",
        "\n",
        "# BERT\n",
        "from simpletransformers.classification import ClassificationModel, ClassificationArgs\n",
        "\n",
        "# muting some output\n",
        "import warnings\n",
        "warnings.filterwarnings('ignore')\n",
        "tf.get_logger().setLevel('ERROR')\n",
        "logging.basicConfig(level=logging.WARNING)\n",
        "transformers_logger = logging.getLogger(\"transformers\")\n",
        "transformers_logger.setLevel(logging.WARNING)\n",
        "\n",
        "# NLTK models\n",
        "nltk.download('stopwords')\n",
        "nltk.download('punkt')\n",
        "nltk.download('wordnet')"
      ],
      "execution_count": null,
      "outputs": [
        {
          "output_type": "stream",
          "text": [
            "[nltk_data] Downloading package stopwords to /root/nltk_data...\n",
            "[nltk_data]   Unzipping corpora/stopwords.zip.\n",
            "[nltk_data] Downloading package punkt to /root/nltk_data...\n",
            "[nltk_data]   Unzipping tokenizers/punkt.zip.\n",
            "[nltk_data] Downloading package wordnet to /root/nltk_data...\n",
            "[nltk_data]   Unzipping corpora/wordnet.zip.\n"
          ],
          "name": "stdout"
        },
        {
          "output_type": "execute_result",
          "data": {
            "text/plain": [
              "True"
            ]
          },
          "metadata": {
            "tags": []
          },
          "execution_count": 1
        }
      ]
    },
    {
      "cell_type": "code",
      "metadata": {
        "colab": {
          "base_uri": "https://localhost:8080/"
        },
        "id": "pBaMZIf6BGZk",
        "outputId": "a8ee0947-a752-452d-b608-d6711d402b67"
      },
      "source": [
        "# colab to save models\n",
        "from google.colab import drive\n",
        "drive.mount(\"/content/gdrive\")\n",
        "DRIVE = '/content/gdrive/MyDrive/thesis/'"
      ],
      "execution_count": null,
      "outputs": [
        {
          "output_type": "stream",
          "text": [
            "Mounted at /content/gdrive\n"
          ],
          "name": "stdout"
        }
      ]
    },
    {
      "cell_type": "markdown",
      "metadata": {
        "id": "plby-988c_x3"
      },
      "source": [
        "## Preprocessing Functions:"
      ]
    },
    {
      "cell_type": "code",
      "metadata": {
        "id": "Fs8HiDvZig_b"
      },
      "source": [
        "# https://github.com/clips/hades\n",
        "HADES_URL = 'https://raw.githubusercontent.com/clips/hades/master'\n",
        "\n",
        "with open('dictfeaturizer.py' ,'w') as py_f, open('dictionary.csv', 'w') as csv_f:\n",
        "    py_f.write(requests.get(f\"{HADES_URL}/dictfeaturizer.py\").text)\n",
        "    # csv_f.write(requests.get(f\"{HADES_URL}/original.csv\").text)\n",
        "    csv_f.write(requests.get(f\"{HADES_URL}/expanded.csv\").text)\n",
        "\n",
        "from dictfeaturizer import DictFeaturizer\n",
        "\n",
        "dict_features = DictFeaturizer.load('dictionary.csv')"
      ],
      "execution_count": null,
      "outputs": []
    },
    {
      "cell_type": "code",
      "metadata": {
        "id": "OiG0raL-dGGF"
      },
      "source": [
        "# preprocessing\n",
        "\n",
        "ASCII_RE = re.compile(r'[^A-Za-z\\s]')\n",
        "PUNCTUATION_RE = re.compile(r'[\\.,!?\\-|:;()]')\n",
        "USERNAME_RE = re.compile(r'@(\\w){1,15}')\n",
        "URL_RE = re.compile(r'https?://t.co/\\w+')\n",
        "NUMBER_RE = re.compile(r'([0-9,.])+')\n",
        "\n",
        "stop_words = set(stopwords.words(\"dutch\")) \n",
        "# lemmatizer = WordNetLemmatizer()\n",
        "\n",
        "# pre-tokenization changes:\n",
        "\n",
        "def emoji(raw_text):\n",
        "    # run this BEFORE clean_tweet!\n",
        "    return \"\".join([f\"{unicodedata.name(char)} \" if not char.isascii() else char for char in raw_text])\n",
        "\n",
        "def clean_tweet(raw_tweet):\n",
        "    # Remove non-letters and Convert to lower case\n",
        "    return ASCII_RE.sub(\" \", raw_tweet)\n",
        "\n",
        "def remove_punctuation(raw_tweet):\n",
        "    return PUNCTUATION_RE.sub(\" \", raw_tweet)\n",
        "\n",
        "def remove_numbers(raw_tweet):\n",
        "    return NUMBER_RE.sub(\"[NUMBER]\", raw_tweet)\n",
        "\n",
        "def remove_mentions(raw_tweet, full=False):\n",
        "    if full:\n",
        "        return USERNAME_RE.sub(\"[USER]\", raw_tweet)\n",
        "    else:\n",
        "        return raw_tweet.replace('@', '')\n",
        "\n",
        "def remove_mentions_full(r):\n",
        "    return remove_mentions(r,1)\n",
        "\n",
        "def remove_urls(raw_tweet):\n",
        "    return URL_RE.sub(\"[URL]\", raw_tweet)\n",
        "\n",
        "def remove_hashtags(raw_tweet):\n",
        "    return raw_tweet.replace('#', '')\n",
        "\n",
        "# words -> tokens\n",
        "\n",
        "def tokenize(words):\n",
        "    # seems to work better than the tweettokenizer\n",
        "    return words.split(' ')\n",
        "\n",
        "\n",
        "tt = nltk.tokenize.TweetTokenizer()\n",
        "def tokenize_nltk(words):\n",
        "    return tt.tokenize(words)\n",
        "\n",
        "\n",
        "# token preprocessing\n",
        "\n",
        "stemmer = nltk.stem.snowball.DutchStemmer()\n",
        "def stem(tokens):\n",
        "    return [stemmer.stem(word) for word in tokens]\n",
        "\n",
        "# features\n",
        "\n",
        "def bag_of_words(tokens):\n",
        "\t'''\n",
        "\t>>> bag_of_words(['the', 'quick', 'brown', 'fox'])\n",
        "\t{'quick': True, 'brown': True, 'the': True, 'fox': True}\n",
        "\t'''\n",
        "\treturn {word: True for word in tokens if word}\n",
        "\n",
        "def bag_of_bigrams_words(tokens, score_fn=BigramAssocMeasures.chi_sq, n=200):\n",
        "\t'''\n",
        "\t>>> bag_of_bigrams_words(['the', 'quick', 'brown', 'fox'])\n",
        "\t{'brown': True, ('brown', 'fox'): True, ('the', 'quick'): True, 'quick': True, ('quick', 'brown'): True, 'the': True, 'fox': True}\n",
        "\t'''\n",
        "\ttry:\n",
        "\t\tbigram_finder = BigramCollocationFinder.from_words(tokens)\n",
        "\t\tbigrams = bigram_finder.nbest(score_fn, n)\n",
        "\texcept:\n",
        "\t\tbigrams = []\n",
        "\treturn bag_of_words(tokens + bigrams)\n",
        "\n",
        "def counter(tokens):\n",
        "    return collections.Counter(tokens)\n",
        "\n",
        "def hateful_feature_scores(tokens):\n",
        "    return dict_features.transform(tokens)\n",
        "\n",
        "def bag_of_hateful_words(tokens, count=False):\n",
        "    prefix = \"hateful__\"\n",
        "\n",
        "    freq_dict = collections.Counter(tokens)\n",
        "    features = {}\n",
        "\n",
        "    for group, wordlists in dict_features.dict.items():\n",
        "\n",
        "        normal, wildcards = wordlists\n",
        "\n",
        "        keys = set(freq_dict.keys())\n",
        "\n",
        "        features.update({f\"{prefix}{k}\": (freq_dict[k] if count else True) for k in normal & keys})\n",
        "        if wildcards:\n",
        "            features.update({f\"{prefix}{k}\": (freq_dict[k] if count else True) for k in keys - normal\n",
        "                                    if wildcards.match(k)})\n",
        "    \n",
        "    return features\n",
        "\n",
        "def hateful_words_counter(tokens):\n",
        "    return bag_of_hateful_words(tokens, True)\n",
        "\n",
        "def combine_features(*funcs):\n",
        "    # used to combine e.g. bag_of_hateful_words with bag_of_words\n",
        "    def wrapper(tokens):\n",
        "        result = {}\n",
        "        for func in funcs:\n",
        "            result.update(func(tokens))\n",
        "        return result\n",
        "    return wrapper\n",
        "\n",
        "def preprocess(tweet, pipeline):\n",
        "    for step in pipeline:\n",
        "        tweet = step(tweet)\n",
        "    return tweet"
      ],
      "execution_count": null,
      "outputs": []
    },
    {
      "cell_type": "code",
      "metadata": {
        "id": "wr9_1qLd_xOE"
      },
      "source": [
        "# metrics: confusion matrix and classification report (with right labels)\n",
        "\n",
        "def confusion(y_true, y_pred):\n",
        "    unique_label = np.unique([y_true, y_pred])\n",
        "    return pd.DataFrame(\n",
        "        sklearn.metrics.confusion_matrix(y_true, y_pred, labels=unique_label), \n",
        "        index=['{:}'.format(LABELS[int(x)]) for x in unique_label], # true rows\n",
        "        columns=['{:}'.format(LABELS[int(x)]) for x in unique_label] # pred cols\n",
        "    )\n",
        "\n",
        "def classification_report(y_true, y_pred):\n",
        "    return sklearn.metrics.classification_report(y_true, y_pred, digits=4, target_names=LABELS, labels=list(range(len(LABELS))))"
      ],
      "execution_count": null,
      "outputs": []
    },
    {
      "cell_type": "code",
      "metadata": {
        "id": "cg48WXn_GHvi"
      },
      "source": [
        "# helper functions to create output for in thesis\n",
        "\n",
        "def confusion_heatmap(conf_matrix, colors=None):\n",
        "    # show heatmap for confusion matrix\n",
        "    dims = (11.7, 8.27)\n",
        "    fig, ax = plt.subplots(figsize=dims)\n",
        "    sns.heatmap(conf_matrix, annot=True, fmt='g', cmap=colors, xticklabels=LABELS, yticklabels=LABELS)\n",
        "    plt.xlabel(\"Predicted Label\") \n",
        "    plt.ylabel(\"True Label\")\n",
        "    plt.show()\n",
        "\n",
        "def parse(first, *extra, only=False):\n",
        "    # since I stored the model results in strings, this model parses\n",
        "    # the confusion matrix from this string\n",
        "    y_pred = []\n",
        "    y_true = []\n",
        "\n",
        "    for string in [first, *extra]:\n",
        "        if 'confusion:' in string:\n",
        "            string = string.split('confusion:', 1)[-1]\n",
        "\n",
        "        numbers = re.findall(r'\\d+', string)\n",
        "        xlab = 0\n",
        "        ylab = 0\n",
        "        for ind, number in enumerate(numbers):\n",
        "            xlab = ind % 4\n",
        "            ylab = math.floor(ind / 4)\n",
        "            \n",
        "            y_true.extend([ylab] * int(number))\n",
        "            y_pred.extend([xlab] * int(number))\n",
        "\n",
        "    return y_true, y_pred\n",
        "\n",
        "def parse_report(first, *extra):\n",
        "    # make average report in latex table format\n",
        "    numbers = [0] * (16+8+2)\n",
        "    all = [first, *extra]\n",
        "    for x in all:\n",
        "        if 'confusion:' in x:\n",
        "            x = x.split('confusion:', 1)[0]\n",
        "        index = 0\n",
        "        for number, _ in re.findall(r'((\\d|\\.)+)', x)[1:]:\n",
        "            numbers[index] += float(number)\n",
        "            index += 1\n",
        "    \n",
        "    vals =  [int(n/len(all)) if int(n/len(all)) == n/len(all) else round(n/len(all), 4) for n in numbers]\n",
        "\n",
        "    print(\"\"\"        & precision & recall & f1-score & support \\\\\\\\ \\\\hline\n",
        "INDIVIDUAL   & {0}         & {1}      & {2}        & {3}      \\\\\\\\\n",
        "GROUP        & {4}         & {5}      & {6}        & {7}                      \\\\\\\\\n",
        "OTHER        & {8}         & {9}      & {10}       & {11}                     \\\\\\\\\n",
        "NOT          & {12}        & {13}     & {14}       & {15} \\\\\\\\\n",
        "accuracy     &           &        & {16}       & {17}                     \\\\\\\\\n",
        "macro avg    & {18}        & {19}     & {20}       & {21}                     \\\\\\\\\n",
        "weighted avg & {22}        & {23}     & {24}       & {25}                                   \n",
        "             \"\"\".format(*vals))"
      ],
      "execution_count": null,
      "outputs": []
    },
    {
      "cell_type": "markdown",
      "metadata": {
        "id": "jr7NJHCtZMdm"
      },
      "source": [
        "# Loading Data"
      ]
    },
    {
      "cell_type": "code",
      "metadata": {
        "colab": {
          "resources": {
            "http://localhost:8080/nbextensions/google.colab/files.js": {
              "data": "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",
              "ok": true,
              "headers": [
                [
                  "content-type",
                  "application/javascript"
                ]
              ],
              "status": 200,
              "status_text": ""
            }
          },
          "base_uri": "https://localhost:8080/",
          "height": 140
        },
        "id": "Z1holl0cZSEd",
        "outputId": "20a6b9ef-5ac2-4e33-a704-7a0fce203680"
      },
      "source": [
        "# upload data\n",
        "from google.colab import files\n",
        "uploaded = files.upload()\n",
        "\n",
        "# upload dev_final.csv, test_final.csv and train_final.csv here"
      ],
      "execution_count": null,
      "outputs": [
        {
          "output_type": "display_data",
          "data": {
            "text/html": [
              "\n",
              "     <input type=\"file\" id=\"files-98f69b7a-80d4-4ade-ab87-409986de2161\" name=\"files[]\" multiple disabled\n",
              "        style=\"border:none\" />\n",
              "     <output id=\"result-98f69b7a-80d4-4ade-ab87-409986de2161\">\n",
              "      Upload widget is only available when the cell has been executed in the\n",
              "      current browser session. Please rerun this cell to enable.\n",
              "      </output>\n",
              "      <script src=\"/nbextensions/google.colab/files.js\"></script> "
            ],
            "text/plain": [
              "<IPython.core.display.HTML object>"
            ]
          },
          "metadata": {
            "tags": []
          }
        },
        {
          "output_type": "stream",
          "text": [
            "Saving dev_final.csv to dev_final.csv\n",
            "Saving test_final.csv to test_final.csv\n",
            "Saving train_final.csv to train_final.csv\n"
          ],
          "name": "stdout"
        }
      ]
    },
    {
      "cell_type": "code",
      "metadata": {
        "id": "YLsJS1MAfW4M"
      },
      "source": [
        "LABELS = [\"INDIVIDUAL\", \"GROUP\", \"OTHER\", \"NOT\"]\n",
        "def load(fn):\n",
        "    # load data - final\n",
        "    full_data = []\n",
        "\n",
        "    with open(fn, encoding='utf-8') as f:\n",
        "        reader = csv.DictReader(f, delimiter='\\t')\n",
        "\n",
        "        for index, line in enumerate(reader):\n",
        "            if line.get('explicitness', 'NOT').strip() != 'NOT':\n",
        "                full_data.append([\n",
        "                                  line['text'], \n",
        "                                  LABELS.index(line['target'].strip()),\n",
        "                                  ])\n",
        "\n",
        "    df_full = pd.DataFrame(full_data)\n",
        "    df_full.columns = [\"text\", \"labels\"]\n",
        "    return df_full\n",
        "\n",
        "train_df = load('train_final.csv')\n",
        "dev_df = test_df = load('dev_final.csv') # aliased to test_df since I used that\n",
        "eval_df = load('test_final.csv') # called eval to make sure it is never used instead of dev\n",
        "\n",
        "df_all = pd.concat([train_df, dev_df, eval_df])"
      ],
      "execution_count": null,
      "outputs": []
    },
    {
      "cell_type": "code",
      "metadata": {
        "id": "JExpbCdlN6Xm"
      },
      "source": [
        "LABELS = [\"INDIVIDUAL\", \"GROUP\", \"OTHER\", \"NOT\"]\n",
        "def load_for_vis(fn):\n",
        "    # load data - including NOT offensive and additional fields for visualization\n",
        "    full_data = []\n",
        "\n",
        "    with open(fn, encoding='utf-8') as f:\n",
        "        reader = csv.DictReader(f, delimiter='\\t')\n",
        "\n",
        "        for index, line in enumerate(reader):\n",
        "            full_data.append([\n",
        "                                line['text'], \n",
        "                                line['target'].strip(),\n",
        "                                line['explicitness'],\n",
        "                                line['abusive'],\n",
        "                                ])\n",
        "\n",
        "    df_full = pd.DataFrame(full_data)\n",
        "    df_full.columns = [\"text\", \"labels\", \"explicit\", \"abusive\"]\n",
        "\n",
        "    return df_full\n",
        "\n",
        "train_df_vis = load_for_vis('train_final.csv')\n",
        "dev_df_vis = test_df_vis = load_for_vis('dev_final.csv') # aliased to test_df since I used that\n",
        "\n",
        "eval_df_vis = load_for_vis('test_final.csv') # called eval to make sure it is never used instead of dev\n",
        "\n",
        "# full:\n",
        "df_vis = pd.concat([train_df_vis, test_df_vis, eval_df_vis])"
      ],
      "execution_count": null,
      "outputs": []
    },
    {
      "cell_type": "markdown",
      "metadata": {
        "id": "cbHxTXgIJz9-"
      },
      "source": [
        "## Visualizing"
      ]
    },
    {
      "cell_type": "code",
      "metadata": {
        "id": "Y31JqiR2Y7vw"
      },
      "source": [
        "def hist_plot(l, i, label):\n",
        "    # helper to create a histogram with the number above it\n",
        "    plt.hist(l,\n",
        "            bins=2,\n",
        "            color=colors[i], \n",
        "            label=label,\n",
        "            align='left'\n",
        "            )\n",
        "    \n",
        "    # https://stackoverflow.com/questions/28931224/adding-value-labels-on-a-matplotlib-bar-chart\n",
        "    plt.annotate(l.count(),\n",
        "               xy = (i, l.count()),   # top left corner of the histogram bar\n",
        "               xytext = (0,0.2),             # offsetting label position above its bar\n",
        "               textcoords = \"offset points\", # Offset (in points) from the *xy* value\n",
        "               ha = 'center', va = 'bottom'\n",
        "               )"
      ],
      "execution_count": null,
      "outputs": []
    },
    {
      "cell_type": "code",
      "metadata": {
        "colab": {
          "base_uri": "https://localhost:8080/",
          "height": 497
        },
        "id": "6U6lGtn_J1b_",
        "outputId": "d5b2029d-974f-48a7-f559-febfefe24447"
      },
      "source": [
        "# plot histogram for Target distribution\n",
        "\n",
        "dims = (11.7, 8.27)\n",
        "fig, ax = plt.subplots(figsize=dims)\n",
        "\n",
        "colors = ['#F67280', '#C06C84', '#6C5B7B', '#355C7D']\n",
        "\n",
        "for i, label in enumerate(LABELS):\n",
        "    l = df_vis[df_vis.labels == label].labels\n",
        "    hist_plot(l, i, label)\n",
        "\n",
        "# plt.title('Classes distribution in the train data: Target')\n",
        "plt.xlim(-0.5, 4)\n",
        "plt.legend()\n",
        "plt.show()"
      ],
      "execution_count": null,
      "outputs": [
        {
          "output_type": "display_data",
          "data": {
            "image/png": "[encoded data removed]",
            "text/plain": [
              "<Figure size 842.4x595.44 with 1 Axes>"
            ]
          },
          "metadata": {
            "tags": [],
            "needs_background": "light"
          }
        }
      ]
    },
    {
      "cell_type": "code",
      "metadata": {
        "colab": {
          "base_uri": "https://localhost:8080/",
          "height": 497
        },
        "id": "0b3IsR1mNP83",
        "outputId": "286110dd-f373-4e2f-bc78-85db6c19d252"
      },
      "source": [
        "# plot histogram for Explicitness distribution\n",
        "\n",
        "dims = (11.7, 8.27)\n",
        "fig, ax = plt.subplots(figsize=dims)\n",
        "\n",
        "colors = ['#FE4365', '#F9CDAD', '#83AF98']\n",
        "\n",
        "for i, label in enumerate(['EXPLICIT', 'IMPLICIT', 'NOT']):\n",
        "    l = df_vis[df_vis.explicit == label].explicit\n",
        "    hist_plot(l, i, label)\n",
        "\n",
        "# plt.title('Classes distribution in the train data: Explicitness')\n",
        "plt.xlim(-0.5, 3)\n",
        "plt.legend()\n",
        "plt.show()"
      ],
      "execution_count": null,
      "outputs": [
        {
          "output_type": "display_data",
          "data": {
            "image/png": "[encoded data removed]",
            "text/plain": [
              "<Figure size 842.4x595.44 with 1 Axes>"
            ]
          },
          "metadata": {
            "tags": [],
            "needs_background": "light"
          }
        }
      ]
    },
    {
      "cell_type": "code",
      "metadata": {
        "colab": {
          "base_uri": "https://localhost:8080/",
          "height": 497
        },
        "id": "5yfrSVCLNtff",
        "outputId": "61b5573c-b014-48a3-af31-c7cb1c24b7e8"
      },
      "source": [
        "# plot histogram for Abusiveness distribution\n",
        "\n",
        "dims = (11.7, 8.27)\n",
        "fig, ax = plt.subplots(figsize=dims)\n",
        "\n",
        "colors = ['#888888', '#FE4365', '#F9CDAD', '#83AF98']\n",
        "\n",
        "for i, label in enumerate(['UNKNOWN', 'EXPLICIT', 'IMPLICIT', 'NOT']):\n",
        "    l = df_vis[df_vis.abusive == label].abusive\n",
        "    hist_plot(l, i, label)\n",
        "\n",
        "# plt.title('Classes distribution in the train data: Abusiveness')\n",
        "plt.xlim(-0.5, 4)\n",
        "plt.legend()\n",
        "\n",
        "plt.text(0, 0+0.05, 3, fontsize=10, rotation=-90) # x,y,str\n",
        "\n",
        "plt.show()"
      ],
      "execution_count": null,
      "outputs": [
        {
          "output_type": "display_data",
          "data": {
            "image/png": "[encoded data removed]",
            "text/plain": [
              "<Figure size 842.4x595.44 with 1 Axes>"
            ]
          },
          "metadata": {
            "tags": [],
            "needs_background": "light"
          }
        }
      ]
    },
    {
      "cell_type": "code",
      "metadata": {
        "colab": {
          "base_uri": "https://localhost:8080/",
          "height": 511
        },
        "id": "nx79b0UTPoa-",
        "outputId": "4e9aa1fb-e4a9-4e26-b040-c6de0874c0c8"
      },
      "source": [
        "# Heatmap of Expl. vs Abus.\n",
        "\n",
        "result = df_vis.groupby([\"explicit\", \"abusive\"]).size().unstack(level=0).replace(np.NaN, 0)\n",
        "\n",
        "dims = (11.7, 8.27)\n",
        "fig, ax = plt.subplots(figsize=dims)\n",
        "\n",
        "h = sb.heatmap(result, annot=True, cmap=\"Reds\", fmt='g', norm=LogNorm())\n",
        "\n",
        "plt.xlabel(\"Explicitness\") \n",
        "plt.ylabel(\"Abusiveness\") \n",
        "plt.show()"
      ],
      "execution_count": null,
      "outputs": [
        {
          "output_type": "display_data",
          "data": {
            "image/png": "[encoded data removed]",
            "text/plain": [
              "<Figure size 842.4x595.44 with 2 Axes>"
            ]
          },
          "metadata": {
            "tags": [],
            "needs_background": "light"
          }
        }
      ]
    },
    {
      "cell_type": "code",
      "metadata": {
        "id": "MNmtZl0eUUmp",
        "colab": {
          "base_uri": "https://localhost:8080/",
          "height": 511
        },
        "outputId": "ca1a311c-daf3-4044-8a5e-3d6e6d5e7a7d"
      },
      "source": [
        "# Heatmap of Explic. vs Target\n",
        "\n",
        "result = df_vis.groupby([\"explicit\", \"labels\"]).size().unstack(level=0).replace(np.NaN, 0)\n",
        "\n",
        "dims = (11.7, 8.27)\n",
        "fig, ax = plt.subplots(figsize=dims)\n",
        "\n",
        "h = sb.heatmap(result, annot=True, cmap=\"BuPu\", fmt='g', norm=LogNorm())\n",
        "\n",
        "plt.xlabel(\"Explicitness\") \n",
        "plt.ylabel(\"Target\") \n",
        "plt.show()"
      ],
      "execution_count": null,
      "outputs": [
        {
          "output_type": "display_data",
          "data": {
            "image/png": "[encoded data removed]",
            "text/plain": [
              "<Figure size 842.4x595.44 with 2 Axes>"
            ]
          },
          "metadata": {
            "tags": [],
            "needs_background": "light"
          }
        }
      ]
    },
    {
      "cell_type": "markdown",
      "metadata": {
        "id": "VeOc6QQGaKru"
      },
      "source": [
        "# Dummy Classifier\n",
        "https://scikit-learn.org/stable/modules/generated/sklearn.dummy.DummyClassifier.html"
      ]
    },
    {
      "cell_type": "code",
      "metadata": {
        "colab": {
          "base_uri": "https://localhost:8080/",
          "height": 902
        },
        "id": "8v1CpL0ne2AB",
        "outputId": "c787c516-e687-48de-85dc-bb65681a64dd"
      },
      "source": [
        "dummy = DummyClassifier(strategy='most_frequent')\n",
        "dummy.fit(train_df.text, train_df.labels)\n",
        "print(dummy.score(test_df.text, test_df.labels), dummy.score(eval_df.text, eval_df.labels), LABELS[np.argmax(dummy.class_prior_, axis=-1)])\n",
        "\n",
        "print('dev:',classification_report(test_df.labels, dummy.predict(test_df.text)))\n",
        "print('test:',classification_report(eval_df.labels, dummy.predict(eval_df.text)))\n",
        "\n",
        "x = confusion_matrix(eval_df.labels, dummy.predict(eval_df.text), )\n",
        "confusion_heatmap(x)"
      ],
      "execution_count": null,
      "outputs": [
        {
          "output_type": "stream",
          "text": [
            "0.489247311827957 0.4546332046332046 INDIVIDUAL\n",
            "dev:               precision    recall  f1-score   support\n",
            "\n",
            "  INDIVIDUAL     0.4892    1.0000    0.6570        91\n",
            "       GROUP     0.0000    0.0000    0.0000        49\n",
            "       OTHER     0.0000    0.0000    0.0000        37\n",
            "         NOT     0.0000    0.0000    0.0000         9\n",
            "\n",
            "    accuracy                         0.4892       186\n",
            "   macro avg     0.1223    0.2500    0.1643       186\n",
            "weighted avg     0.2394    0.4892    0.3215       186\n",
            "\n",
            "test:               precision    recall  f1-score   support\n",
            "\n",
            "  INDIVIDUAL     0.4546    1.0000    0.6251       471\n",
            "       GROUP     0.0000    0.0000    0.0000       321\n",
            "       OTHER     0.0000    0.0000    0.0000       176\n",
            "         NOT     0.0000    0.0000    0.0000        68\n",
            "\n",
            "    accuracy                         0.4546      1036\n",
            "   macro avg     0.1137    0.2500    0.1563      1036\n",
            "weighted avg     0.2067    0.4546    0.2842      1036\n",
            "\n"
          ],
          "name": "stdout"
        },
        {
          "output_type": "display_data",
          "data": {
            "image/png": "[encoded data removed]",
            "text/plain": [
              "<Figure size 842.4x595.44 with 2 Axes>"
            ]
          },
          "metadata": {
            "tags": [],
            "needs_background": "light"
          }
        }
      ]
    },
    {
      "cell_type": "code",
      "metadata": {
        "id": "r0Ex1NMWXtOe",
        "colab": {
          "base_uri": "https://localhost:8080/"
        },
        "outputId": "ec9325be-ab32-4692-e9e8-d8a8aa6cb3c7"
      },
      "source": [
        "dummy_dev = \"\"\"\n",
        "dev:               precision    recall  f1-score   support\n",
        "\n",
        "  INDIVIDUAL     0.4892    1.0000    0.6570        91\n",
        "       GROUP     0.0000    0.0000    0.0000        49\n",
        "       OTHER     0.0000    0.0000    0.0000        37\n",
        "         NOT     0.0000    0.0000    0.0000         9\n",
        "\n",
        "    accuracy                         0.4892       186\n",
        "   macro avg     0.1223    0.2500    0.1643       186\n",
        "weighted avg     0.2394    0.4892    0.3215       186\n",
        "\"\"\"\n",
        "dummy_test = \"\"\"\n",
        "test:               precision    recall  f1-score   support\n",
        "\n",
        "  INDIVIDUAL     0.4546    1.0000    0.6251       471\n",
        "       GROUP     0.0000    0.0000    0.0000       321\n",
        "       OTHER     0.0000    0.0000    0.0000       176\n",
        "         NOT     0.0000    0.0000    0.0000        68\n",
        "\n",
        "    accuracy                         0.4546      1036\n",
        "   macro avg     0.1137    0.2500    0.1563      1036\n",
        "weighted avg     0.2067    0.4546    0.2842      1036\n",
        "\"\"\"\n",
        "\n",
        "parse_report(dummy_test)"
      ],
      "execution_count": null,
      "outputs": [
        {
          "output_type": "stream",
          "text": [
            "        & precision & recall & f1-score & support \\\\ \\hline\n",
            "INDIVIDUAL   & 0.4546         & 1      & 0.6251        & 471      \\\\\n",
            "GROUP        & 0         & 0      & 0        & 321                      \\\\\n",
            "OTHER        & 0         & 0      & 0       & 176                     \\\\\n",
            "NOT          & 0        & 0     & 0       & 68 \\\\\n",
            "accuracy     &           &        & 0.4546       & 1036                     \\\\\n",
            "macro avg    & 0.1137        & 0.25     & 0.1563       & 1036                     \\\\\n",
            "weighted avg & 0.2067        & 0.4546     & 0.2842       & 1036                                   \n",
            "             \n"
          ],
          "name": "stdout"
        }
      ]
    },
    {
      "cell_type": "markdown",
      "metadata": {
        "id": "hZc5jdkQZOEV"
      },
      "source": [
        "# SVM"
      ]
    },
    {
      "cell_type": "code",
      "metadata": {
        "id": "fDjzntLRtZna"
      },
      "source": [
        "def high_information_words(labelled_words, score_fn=BigramAssocMeasures.chi_sq, min_score=5):\n",
        "    # source: https://github.com/PacktPublishing/Natural-Language-Processing-Python-and-NLTK/blob/master/Module%202/Chapter%207/7853OS_07_Codes/featx.py\n",
        "\tword_fd = nltk.FreqDist()\n",
        "\tlabel_word_fd = nltk.ConditionalFreqDist()\n",
        "\t\n",
        "\tfor label, words in labelled_words:\n",
        "\t\tfor word in words:\n",
        "\t\t\tword_fd[word] += 1\n",
        "\t\t\tlabel_word_fd[label][word] += 1\n",
        "\t\n",
        "\tn_xx = label_word_fd.N()\n",
        "\thigh_info_words = set()\n",
        "\t\n",
        "\tfor label in label_word_fd.conditions():\n",
        "\t\tn_xi = label_word_fd[label].N()\n",
        "\t\tword_scores = collections.defaultdict(int)\n",
        "\t\t\n",
        "\t\tfor word, n_ii in label_word_fd[label].items():\n",
        "\t\t\tn_ix = word_fd[word]\n",
        "\t\t\tscore = score_fn(n_ii, (n_ix, n_xi), n_xx)\n",
        "\t\t\tword_scores[word] = score\n",
        "\t\t\n",
        "\t\tbestwords = [word for word, score in word_scores.items() if score >= min_score]\n",
        "\t\thigh_info_words |= set(bestwords)\n",
        "\t\n",
        "\tprint(high_info_words)\n",
        "\treturn high_info_words\n",
        "\n",
        "def high_info_feats(feats, min_sc=7):\n",
        "    \"\"\"\n",
        "    returns hi_feats, a list containing tuples (bag_dict, category_string)\n",
        "    makes sure the feats contain bags of words with only high info words in them\n",
        "\n",
        "    Source: V. Zwart, R. van der Noord and F. van den Berg\n",
        "    \"\"\"\n",
        "    labels_dict = {l: i for l, i in enumerate(LABELS)}\n",
        "\n",
        "    hi_feats = []\n",
        "\n",
        "    # Convert the formatting of our features to that required by high_information_words\n",
        "    words = defaultdict(list)\n",
        "    for label in labels_dict:\n",
        "        words[label] = []\n",
        "\n",
        "    for feat in feats:\n",
        "        label = feat[1]\n",
        "        bag = feat[0]\n",
        "        for w in bag.keys():\n",
        "            words[label].append(w)\n",
        "\n",
        "    # Calculate high information words\n",
        "    labelled_words = [(label, words[label]) for label in labels_dict]\n",
        "    high_info_words = set(high_information_words(labelled_words, min_score=min_sc))\n",
        "\n",
        "    # Use the high information words to create high information features\n",
        "    for feat in feats:\n",
        "        category = feat[1]\n",
        "        bag = feat[0]\n",
        "        hi_bag = dict()\n",
        "        for w in bag.keys():\n",
        "            if w in high_info_words:  # ensure the words in each bag are only high info words\n",
        "                hi_bag[w] = bag[w]\n",
        "        hi_feats.append((hi_bag, category))  # add the new bag dict and category to the features list\n",
        "\n",
        "    return hi_feats"
      ],
      "execution_count": null,
      "outputs": []
    },
    {
      "cell_type": "code",
      "metadata": {
        "id": "VmG6PpRSxpcR"
      },
      "source": [
        "svm_pipeline = [\n",
        "                # emoji,\n",
        "                str.lower,\n",
        "                # clean_tweet,\n",
        "                remove_mentions,\n",
        "                remove_urls,\n",
        "                remove_hashtags,\n",
        "                # remove_punctuation,\n",
        "                remove_numbers,\n",
        "\n",
        "                # tokenize_nltk,\n",
        "                # tokenize,\n",
        "                word_tokenize,\n",
        "                \n",
        "                # remove_stop_words,\n",
        "                # stem,\n",
        "                \n",
        "                # counter,\n",
        "                # bag_of_words,\n",
        "                # bag_of_bigrams_words,\n",
        "                # bag_of_hateful_words,\n",
        "                # hateful_words_counter,\n",
        "                combine_features(bag_of_bigrams_words, bag_of_hateful_words),\n",
        "]\n",
        "\n",
        "# baseline:\n",
        "# svm_pipeline = [tokenize, bag_of_words]\n",
        "\n",
        "def svm_preprocess(text):\n",
        "    return preprocess(text, svm_pipeline)"
      ],
      "execution_count": null,
      "outputs": []
    },
    {
      "cell_type": "code",
      "metadata": {
        "id": "GOl_1wZpxzdQ"
      },
      "source": [
        "train = []\n",
        "for index, row in train_df.iterrows():\n",
        "    train.append((svm_preprocess(row['text']), row['labels']))\n",
        "\n",
        "test = []\n",
        "for index, row in test_df.iterrows():\n",
        "    test.append((svm_preprocess(row['text']), row['labels']))\n",
        "\n",
        "eval = []\n",
        "for index, row in eval_df.iterrows():\n",
        "    eval.append((svm_preprocess(row['text']), row['labels']))\n",
        "\n",
        "train_hifeats = train\n",
        "test_hifeats = test\n",
        "\n",
        "# use high-info:\n",
        "# train_hifeats = high_info_feats(train, 0.05)\n",
        "# test_hifeats = high_info_feats(test, 0.05)"
      ],
      "execution_count": null,
      "outputs": []
    },
    {
      "cell_type": "code",
      "metadata": {
        "colab": {
          "base_uri": "https://localhost:8080/"
        },
        "id": "_Oj0WxGTaKF1",
        "outputId": "f6eb2000-832e-4593-ab8b-db21d7218979"
      },
      "source": [
        "# Train the classifier\n",
        "classifier = SklearnClassifier(LinearSVC())\n",
        "classifier._vectorizer.sort = False # bigrams\n",
        "model = classifier.train(train_hifeats)\n",
        "\n",
        "def evaluation(classifier, test):\n",
        "    y_prob = classifier.classify_many([t[0] for t in test])\n",
        "    y_real = [t[1] for t in test]\n",
        "    print(classification_report(y_real, y_prob))\n",
        "    print(confusion(y_real, y_prob))\n",
        "    return nltk.classify.accuracy(classifier, test)\n",
        "\n",
        "# dev:\n",
        "print(evaluation(model, test_hifeats))"
      ],
      "execution_count": null,
      "outputs": [
        {
          "output_type": "stream",
          "text": [
            "              precision    recall  f1-score   support\n",
            "\n",
            "  INDIVIDUAL     0.7595    0.6593    0.7059        91\n",
            "       GROUP     0.4127    0.5306    0.4643        49\n",
            "       OTHER     0.4286    0.4865    0.4557        37\n",
            "         NOT     0.5000    0.1111    0.1818         9\n",
            "\n",
            "    accuracy                         0.5645       186\n",
            "   macro avg     0.5252    0.4469    0.4519       186\n",
            "weighted avg     0.5897    0.5645    0.5671       186\n",
            "\n",
            "            INDIVIDUAL  GROUP  OTHER  NOT\n",
            "INDIVIDUAL          60     20     11    0\n",
            "GROUP               11     26     11    1\n",
            "OTHER                4     15     18    0\n",
            "NOT                  4      2      2    1\n",
            "0.5645161290322581\n"
          ],
          "name": "stdout"
        }
      ]
    },
    {
      "cell_type": "code",
      "metadata": {
        "colab": {
          "base_uri": "https://localhost:8080/"
        },
        "id": "MTtfmdCm4Nsb",
        "outputId": "10cde96f-c846-4b0d-8388-68c1d5318c1b"
      },
      "source": [
        "# test:\n",
        "print(evaluation(model, eval))"
      ],
      "execution_count": null,
      "outputs": [
        {
          "output_type": "stream",
          "text": [
            "              precision    recall  f1-score   support\n",
            "\n",
            "  INDIVIDUAL     0.6414    0.7558    0.6940       471\n",
            "       GROUP     0.5907    0.5171    0.5515       321\n",
            "       OTHER     0.3309    0.2614    0.2921       176\n",
            "         NOT     0.3443    0.3088    0.3256        68\n",
            "\n",
            "    accuracy                         0.5685      1036\n",
            "   macro avg     0.4768    0.4608    0.4658      1036\n",
            "weighted avg     0.5535    0.5685    0.5574      1036\n",
            "\n",
            "            INDIVIDUAL  GROUP  OTHER  NOT\n",
            "INDIVIDUAL         356     66     30   19\n",
            "GROUP               86    166     56   13\n",
            "OTHER               82     40     46    8\n",
            "NOT                 31      9      7   21\n",
            "0.5685328185328186\n"
          ],
          "name": "stdout"
        }
      ]
    },
    {
      "cell_type": "code",
      "metadata": {
        "colab": {
          "base_uri": "https://localhost:8080/"
        },
        "id": "Qqh2S5YMkXtB",
        "outputId": "6b6d9a45-768f-4264-f7d1-4fdbde1bd181"
      },
      "source": [
        "# saved scores:\n",
        "svm_base = \"\"\"baseline report\n",
        "              precision    recall  f1-score   support\n",
        "\n",
        "  INDIVIDUAL     0.6414    0.7558    0.6940       471\n",
        "       GROUP     0.5907    0.5171    0.5515       321\n",
        "       OTHER     0.3309    0.2614    0.2921       176\n",
        "         NOT     0.3443    0.3088    0.3256        68\n",
        "\n",
        "    accuracy                         0.5685      1036\n",
        "   macro avg     0.4768    0.4608    0.4658      1036\n",
        "weighted avg     0.5535    0.5685    0.5574      1036\n",
        "\n",
        "confusion:\n",
        "            INDIVIDUAL  GROUP  OTHER  NOT\n",
        "INDIVIDUAL         356     66     30   19\n",
        "GROUP               86    166     56   13\n",
        "OTHER               82     40     46    8\n",
        "NOT                 31      9      7   21\n",
        "\"\"\"\n",
        "\n",
        "svm_improved = \"\"\"improved report\n",
        "            precision    recall  f1-score   support\n",
        "\n",
        "  INDIVIDUAL     0.6755    0.8089    0.7362       471\n",
        "       GROUP     0.6763    0.5857    0.6277       321\n",
        "       OTHER     0.4017    0.2670    0.3208       176\n",
        "         NOT     0.3377    0.3824    0.3586        68\n",
        "\n",
        "    accuracy                         0.6197      1036\n",
        "   macro avg     0.5228    0.5110    0.5108      1036\n",
        "weighted avg     0.6071    0.6197    0.6073      1036\n",
        "\n",
        "confusion:\n",
        "            INDIVIDUAL  GROUP  OTHER  NOT\n",
        "INDIVIDUAL         381     41     20   29\n",
        "GROUP               76    188     41   16\n",
        "OTHER               79     44     47    6\n",
        "NOT                 28      5      9   26\n",
        "\"\"\"\n",
        "\n",
        "parse_report(svm_base)\n",
        "parse_report(svm_improved)"
      ],
      "execution_count": null,
      "outputs": [
        {
          "output_type": "stream",
          "text": [
            "        & precision & recall & f1-score & support \\\\ \\hline\n",
            "INDIVIDUAL   & 0.6414         & 0.7558      & 0.694        & 471      \\\\\n",
            "GROUP        & 0.5907         & 0.5171      & 0.5515        & 321                      \\\\\n",
            "OTHER        & 0.3309         & 0.2614      & 0.2921       & 176                     \\\\\n",
            "NOT          & 0.3443        & 0.3088     & 0.3256       & 68 \\\\\n",
            "accuracy     &           &        & 0.5685       & 1036                     \\\\\n",
            "macro avg    & 0.4768        & 0.4608     & 0.4658       & 1036                     \\\\\n",
            "weighted avg & 0.5535        & 0.5685     & 0.5574       & 1036                                   \n",
            "             \n",
            "        & precision & recall & f1-score & support \\\\ \\hline\n",
            "INDIVIDUAL   & 0.6755         & 0.8089      & 0.7362        & 471      \\\\\n",
            "GROUP        & 0.6763         & 0.5857      & 0.6277        & 321                      \\\\\n",
            "OTHER        & 0.4017         & 0.267      & 0.3208       & 176                     \\\\\n",
            "NOT          & 0.3377        & 0.3824     & 0.3586       & 68 \\\\\n",
            "accuracy     &           &        & 0.6197       & 1036                     \\\\\n",
            "macro avg    & 0.5228        & 0.511     & 0.5108       & 1036                     \\\\\n",
            "weighted avg & 0.6071        & 0.6197     & 0.6073       & 1036                                   \n",
            "             \n"
          ],
          "name": "stdout"
        }
      ]
    },
    {
      "cell_type": "code",
      "metadata": {
        "colab": {
          "base_uri": "https://localhost:8080/",
          "height": 1000
        },
        "id": "kDiuEvQestWZ",
        "outputId": "01aa73ab-53e9-4714-c2b8-85a8f45d7b0d"
      },
      "source": [
        "confusion_heatmap(confusion_matrix(*parse(svm_base)), colors='Greens')\n",
        "confusion_heatmap(confusion_matrix(*parse(svm_improved)), colors='Greens')"
      ],
      "execution_count": null,
      "outputs": [
        {
          "output_type": "display_data",
          "data": {
            "image/png": "[encoded data removed]",
            "text/plain": [
              "<Figure size 842.4x595.44 with 2 Axes>"
            ]
          },
          "metadata": {
            "tags": []
          }
        },
        {
          "output_type": "display_data",
          "data": {
            "image/png": "[encoded data removed]",
            "text/plain": [
              "<Figure size 842.4x595.44 with 2 Axes>"
            ]
          },
          "metadata": {
            "tags": []
          }
        }
      ]
    },
    {
      "cell_type": "markdown",
      "metadata": {
        "id": "1Rgd2jNsaatC"
      },
      "source": [
        "# BiLSTM"
      ]
    },
    {
      "cell_type": "markdown",
      "metadata": {
        "id": "TFFvO6Y5ayru"
      },
      "source": [
        "## Word Embeddings"
      ]
    },
    {
      "cell_type": "code",
      "metadata": {
        "id": "BByMow-8a0SG"
      },
      "source": [
        "# downloading the coosto model\n",
        "\n",
        "WE_FILE = 'coosto.bin'\n",
        "\n",
        "def download_word_embeddings():\n",
        "    wordembeddings_url = 'https://github.com/coosto/dutch-word-embeddings/releases/download/v1.0/model.bin'\n",
        "\n",
        "    r = requests.get(wordembeddings_url)\n",
        "\n",
        "    if r.status_code == 200:\n",
        "        with open(WE_FILE, 'wb') as wordembeddings_file:\n",
        "            wordembeddings_file.write(\n",
        "                r.content\n",
        "            )\n",
        "    \n",
        "download_word_embeddings()"
      ],
      "execution_count": null,
      "outputs": []
    },
    {
      "cell_type": "code",
      "metadata": {
        "id": "u_OPWlAaa4DG"
      },
      "source": [
        "# loading coosto/word2vec:\n",
        "\n",
        "def load_word_embeddings():\n",
        "    return gensim.models.KeyedVectors.load_word2vec_format(WE_FILE, binary=True)\n",
        "\n",
        "word_model = load_word_embeddings()"
      ],
      "execution_count": null,
      "outputs": []
    },
    {
      "cell_type": "code",
      "metadata": {
        "id": "XuGSHqwlbAX-"
      },
      "source": [
        "def _vectorize_data(data, wm):\n",
        "    # turn the tokens into coosto vocab indices\n",
        "    # these will be converted to embeddings in the Embedding layer\n",
        "    vocab = wm.vocab\n",
        "    keys = list(vocab.keys())\n",
        "\n",
        "    final = []\n",
        "    for tweet in data:\n",
        "        final.append([keys.index(word) for word in tweet if vocab.get(word, None) is not None])\n",
        "    return final\n",
        "\n",
        "def vectorize_data(all_tweets, model):\n",
        "    # pad so each vector is equal length (300)\n",
        "    return pad_sequences(\n",
        "        sequences=_vectorize_data(all_tweets, model),\n",
        "        maxlen=model.vector_size,\n",
        "        padding='post')"
      ],
      "execution_count": null,
      "outputs": []
    },
    {
      "cell_type": "markdown",
      "metadata": {
        "id": "TX8YIcVdbBfu"
      },
      "source": [
        "## Preparing Model"
      ]
    },
    {
      "cell_type": "code",
      "metadata": {
        "id": "5hHEWEhLbCsO"
      },
      "source": [
        "# setup architecture of BiLSTM\n",
        "\n",
        "def _build_model(embedding_matrix, input_length):\n",
        "    model = Sequential()\n",
        "    model.add(Embedding(\n",
        "    input_dim = embedding_matrix.shape[0],\n",
        "    output_dim = embedding_matrix.shape[1], \n",
        "    input_length = input_length,\n",
        "    weights = [embedding_matrix],\n",
        "    trainable=False))\n",
        "    \n",
        "    model.add(Bidirectional(LSTM(150, recurrent_dropout=0.1))) # -> None, 300\n",
        "    # model.add(Bidirectional(LSTM(128, recurrent_dropout=0.1))) # -> None, 256\n",
        "    # model.add(Bidirectional(LSTM(300, recurrent_dropout=0.1)))\n",
        "\n",
        "    model.add(Dropout(0.25)) # -> None, 256\n",
        "    model.add(Dense(64)) # -> None, 64\n",
        "    model.add(Dropout(0.3)) # None, 64\n",
        "\n",
        "    model.add(Dense(len(LABELS), activation='softmax')) # -> output should be the amount of labels we have for multi-class! (sigmoid)\n",
        "    model.summary()\n",
        "    return model\n",
        "\n",
        "\n",
        "# simpler:\n",
        "# def _build_model(embedding_matrix, input_length):\n",
        "#     model = Sequential()\n",
        "#     model.add(Embedding(\n",
        "#         input_dim = embedding_matrix.shape[0],\n",
        "#         output_dim = embedding_matrix.shape[1], \n",
        "#         input_length = input_length,\n",
        "#         weights = [embedding_matrix],\n",
        "#         trainable=False))\n",
        "#     model.add(Bidirectional(LSTM(300)))\n",
        "#     model.add(Dropout(0.2))\n",
        "#     model.add(Dense(len(LABELS), activation='softmax')) # -> output should be the amount of labels we have for multi-class! (sigmoid)\n",
        "#     model.summary()\n",
        "#     return model\n",
        "\n",
        "# two layers:\n",
        "# def _build_model(embedding_matrix, input_length):\n",
        "#     model = Sequential()\n",
        "#     model.add(Embedding(\n",
        "#         input_dim = embedding_matrix.shape[0],\n",
        "#         output_dim = embedding_matrix.shape[1], \n",
        "#         input_length = input_length,\n",
        "#         weights = [embedding_matrix],\n",
        "#         trainable=False))\n",
        "#     model.add(Bidirectional(LSTM(150, return_sequences=True, recurrent_dropout=0.15)))\n",
        "#     model.add(Bidirectional(LSTM(150, recurrent_dropout=0.15)))\n",
        "#     model.add(Dropout(0.25))\n",
        "#     model.add(Dense(128))\n",
        "#     model.add(Dropout(0.3))\n",
        "#     model.add(Dense(len(LABELS), activation='softmax')) # -> output should be the amount of labels we have for multi-class! (sigmoid)\n",
        "#     model.summary()\n",
        "#     return model\n",
        "\n",
        "def build_model(word_model):\n",
        "    return _build_model(\n",
        "        embedding_matrix=word_model.vectors,\n",
        "        input_length=word_model.vector_size)"
      ],
      "execution_count": null,
      "outputs": []
    },
    {
      "cell_type": "code",
      "metadata": {
        "id": "HDUiejo6bHc2"
      },
      "source": [
        "def _run(model, epochs=20, batch_size=100):\n",
        "    # compile and train the model\n",
        "    model.compile(\n",
        "        loss=\"sparse_categorical_crossentropy\", # <- 4 classes\n",
        "        optimizer='adam',\n",
        "        metrics=[\n",
        "                 'accuracy'\n",
        "                 ])\n",
        "\n",
        "    history = model.fit(\n",
        "        x=X_train,\n",
        "        y=y_train,\n",
        "        validation_data=(X_test, y_test),\n",
        "        batch_size=batch_size,\n",
        "        epochs=epochs)\n",
        "    \n",
        "    return model\n",
        "\n",
        "def find_gpu():\n",
        "    # check if GPU exists\n",
        "    import tensorflow as tf\n",
        "    device_name = tf.test.gpu_device_name()\n",
        "    if device_name != '/device:GPU:0':\n",
        "        raise SystemError('GPU device not found')\n",
        "    print('Found GPU at: {}'.format(device_name))\n",
        "    return device_name\n",
        "\n",
        "def find_cpu():\n",
        "    # fallback to CPU\n",
        "    return \"/cpu:0\"\n",
        "\n",
        "def run(model, GPU=True, *a, **kw):\n",
        "    # run the model (using GPU)\n",
        "    device = (find_cpu if not GPU else find_gpu)()\n",
        "\n",
        "    with tf.device(device):\n",
        "        return _run(model, *a, **kw)\n",
        "\n",
        "def bilstm_predict(model, x, label=False):\n",
        "    # predict x with model\n",
        "    result = np.argmax(model.predict(x), axis=-1)\n",
        "    return [LABELS[r] for r in result] if label else result\n",
        "\n",
        "def evaluate_report(model, test_x, test_y):\n",
        "    # show report and confusion matrix of model on test or dev\n",
        "\n",
        "    test_predictions = bilstm_predict(model, test_x)\n",
        "    print(classification_report(test_y, test_predictions))\n",
        "    print(confusion(test_y, test_predictions))\n",
        "    return sklearn.metrics.accuracy_score(test_y, test_predictions)"
      ],
      "execution_count": null,
      "outputs": []
    },
    {
      "cell_type": "markdown",
      "metadata": {
        "id": "XBw3rJHBxOlp"
      },
      "source": [
        "## Running the Model"
      ]
    },
    {
      "cell_type": "code",
      "metadata": {
        "id": "czaDG1lDxOJJ"
      },
      "source": [
        "# tutorial: https://www.kaggle.com/alexcherniuk/imdb-review-word2vec-bilstm-99-acc\n",
        "\n",
        "bilstm_pipeline = [\n",
        "                  # emoji,\n",
        "                str.lower,\n",
        "                  # clean_tweet,\n",
        "                  # remove_mentions_full,\n",
        "                remove_mentions,\n",
        "                remove_urls,\n",
        "                remove_hashtags,\n",
        "                  # remove_punctuation,\n",
        "                remove_numbers,\n",
        "\n",
        "                  # tokenize_nltk,\n",
        "                  # tokenize,\n",
        "                word_tokenize,\n",
        "\n",
        "                  # remove_stop_words,\n",
        "                  # stem,\n",
        "]\n",
        "\n",
        "# baseline:\n",
        "# bilstm_pipeline = [tokenize]\n",
        "\n",
        "def preprocess_data_bilstm(df):\n",
        "    # preprocess each Tweet and put it in a numpy array to vectorize afterwards\n",
        "    return np.array([preprocess(x, bilstm_pipeline) for x in df.text])\n",
        "\n",
        "# preproc. everything\n",
        "all_tweets_train = preprocess_data_bilstm(train_df)\n",
        "all_tweets_test = preprocess_data_bilstm(test_df)\n",
        "all_tweets_eval = preprocess_data_bilstm(eval_df)\n",
        "\n",
        "# vectorize everything\n",
        "X_train = vectorize_data(all_tweets_train, word_model)\n",
        "y_train = train_df.labels.values\n",
        "X_test = vectorize_data(all_tweets_test, word_model)\n",
        "y_test = test_df.labels.values\n",
        "X_eval = vectorize_data(all_tweets_eval, word_model)\n",
        "y_eval = eval_df.labels.values"
      ],
      "execution_count": null,
      "outputs": []
    },
    {
      "cell_type": "code",
      "metadata": {
        "id": "yaStJ9XpCd52"
      },
      "source": [
        "def find_optimal_bilstm(epochs=5):\n",
        "    # show evaluation report after each epoch and save weights to drive\n",
        "    # (not really used since keras prints val_accuracy after each epoch already)\n",
        "    model = build_model(word_model)\n",
        "    best_acc = 0\n",
        "    for epoch in range(epochs):\n",
        "        print(f\"Epoch {epoch+1}\")\n",
        "        model = run(model, epochs=1)\n",
        "        acc = evaluate_report(model, X_test, y_test)\n",
        "        if acc > best_acc:\n",
        "            best_acc = acc\n",
        "            acc = \"%.4f\" % round(acc, 4)\n",
        "            print('new record!')\n",
        "            f = f'bilstm-{epoch}-{acc}.h5'\n",
        "            model.save(f)\n",
        "            os.system(f'mv {f} {DRIVE}')\n",
        "    \n",
        "    print('best acc:', best_acc, f)\n",
        "    return model"
      ],
      "execution_count": null,
      "outputs": []
    },
    {
      "cell_type": "code",
      "metadata": {
        "id": "A1V0KsoKREKo"
      },
      "source": [
        "# for x in range(1):\n",
        "#     run(model, epochs=1)\n",
        "#     evaluate_report(model, X_test, y_test)\n",
        "\n",
        "# find_optimal_bilstm(3)"
      ],
      "execution_count": null,
      "outputs": []
    },
    {
      "cell_type": "code",
      "metadata": {
        "id": "G30n1k3nbJze"
      },
      "source": [
        "model = build_model(word_model)\n",
        "run(model, epochs=8) \n",
        "evaluate_report(model, X_test, y_test) # evaluate on dev\n",
        "evaluate_report(model, X_eval, y_eval) # evaluate on test"
      ],
      "execution_count": null,
      "outputs": []
    },
    {
      "cell_type": "code",
      "metadata": {
        "colab": {
          "base_uri": "https://localhost:8080/",
          "height": 1000
        },
        "id": "MKE89F2mk37o",
        "outputId": "ae137d8b-e96a-43e8-f1da-24502bb985a5"
      },
      "source": [
        "# saved scores:\n",
        "\n",
        "# baseline: (split, 1 epoch)\n",
        "bilstm_baseline_1 = \"\"\"\n",
        "              precision    recall  f1-score   support\n",
        "\n",
        "  INDIVIDUAL     0.6387    0.8408    0.7259       471\n",
        "       GROUP     0.6367    0.5078    0.5650       321\n",
        "       OTHER     0.3767    0.3125    0.3416       176\n",
        "         NOT     0.5714    0.1176    0.1951        68\n",
        "\n",
        "    accuracy                         0.6004      1036\n",
        "   macro avg     0.5559    0.4447    0.4569      1036\n",
        "weighted avg     0.5892    0.6004    0.5759      1036\n",
        "\n",
        "confusion:\n",
        "\n",
        "            INDIVIDUAL  GROUP  OTHER  NOT\n",
        "INDIVIDUAL         396     43     31    1\n",
        "GROUP              107    163     49    2\n",
        "OTHER               73     45     55    3\n",
        "NOT                 44      5     11    8\n",
        "\"\"\"\n",
        "\n",
        "bilstm_baseline_2 = \"\"\"\n",
        "              precision    recall  f1-score   support\n",
        "\n",
        "  INDIVIDUAL     0.5800    0.8620    0.6934       471\n",
        "       GROUP     0.6770    0.3396    0.4523       321\n",
        "       OTHER     0.3459    0.2614    0.2977       176\n",
        "         NOT     0.3571    0.2206    0.2727        68\n",
        "\n",
        "    accuracy                         0.5560      1036\n",
        "   macro avg     0.4900    0.4209    0.4290      1036\n",
        "weighted avg     0.5557    0.5560    0.5239      1036\n",
        "\n",
        "confusion:\n",
        "\n",
        "            INDIVIDUAL  GROUP  OTHER  NOT\n",
        "INDIVIDUAL         406     19     30   16\n",
        "GROUP              151    109     54    7\n",
        "OTHER               98     28     46    4\n",
        "NOT                 45      5      3   15\n",
        "\"\"\"\n",
        "\n",
        "bilstm_baseline_3 =  \"\"\"\n",
        "              precision    recall  f1-score   support\n",
        "\n",
        "  INDIVIDUAL     0.5963    0.8811    0.7112       471\n",
        "       GROUP     0.6284    0.5109    0.5636       321\n",
        "       OTHER     0.4464    0.1420    0.2155       176\n",
        "         NOT     0.4783    0.1618    0.2418        68\n",
        "\n",
        "    accuracy                         0.5936      1036\n",
        "   macro avg     0.5373    0.4240    0.4330      1036\n",
        "weighted avg     0.5730    0.5936    0.5504      1036\n",
        "\n",
        "confusion:\n",
        "\n",
        "            INDIVIDUAL  GROUP  OTHER  NOT\n",
        "INDIVIDUAL         415     39     13    4\n",
        "GROUP              137    164     17    3\n",
        "OTHER               96     50     25    5\n",
        "NOT                 48      8      1   11\n",
        "\"\"\"\n",
        "\n",
        "bilstm_baseline_4 = \"\"\"\n",
        "              precision    recall  f1-score   support\n",
        "\n",
        "  INDIVIDUAL     0.5730    0.8917    0.6977       471\n",
        "       GROUP     0.6130    0.4393    0.5118       321\n",
        "       OTHER     0.2683    0.0625    0.1014       176\n",
        "         NOT     0.5000    0.2353    0.3200        68\n",
        "\n",
        "    accuracy                         0.5676      1036\n",
        "   macro avg     0.4886    0.4072    0.4077      1036\n",
        "weighted avg     0.5288    0.5676    0.5140      1036\n",
        "\n",
        "confusion:\n",
        "\n",
        "            INDIVIDUAL  GROUP  OTHER  NOT\n",
        "INDIVIDUAL         420     35      9    7\n",
        "GROUP              154    141     20    6\n",
        "OTHER              114     48     11    3\n",
        "NOT                 45      6      1   16\n",
        "\"\"\"\n",
        "\n",
        "bilstm_baseline_5 = \"\"\"\n",
        "              precision    recall  f1-score   support\n",
        "\n",
        "  INDIVIDUAL     0.6006    0.8684    0.7101       471\n",
        "       GROUP     0.6326    0.5202    0.5709       321\n",
        "       OTHER     0.3939    0.1477    0.2149       176\n",
        "         NOT     0.4400    0.1618    0.2366        68\n",
        "\n",
        "    accuracy                         0.5917      1036\n",
        "   macro avg     0.5168    0.4245    0.4331      1036\n",
        "weighted avg     0.5649    0.5917    0.5518      1036\n",
        "\n",
        "confusion:\n",
        "\n",
        "            INDIVIDUAL  GROUP  OTHER  NOT\n",
        "INDIVIDUAL         409     38     17    7\n",
        "GROUP              129    167     20    5\n",
        "OTHER               99     49     26    2\n",
        "NOT                 44     10      3   11\n",
        "\"\"\"\n",
        "\n",
        "# final:\n",
        "\n",
        "bilstm_final_1 = \"\"\"\n",
        "             precision    recall  f1-score   support\n",
        "  INDIVIDUAL     0.7792    0.7495    0.7641       471\n",
        "       GROUP     0.6530    0.6449    0.6489       321\n",
        "       OTHER     0.4539    0.3920    0.4207       176\n",
        "         NOT     0.3333    0.5588    0.4176        68\n",
        "\n",
        "    accuracy                         0.6438      1036\n",
        "   macro avg     0.5549    0.5863    0.5628      1036\n",
        "weighted avg     0.6556    0.6438    0.6473      1036\n",
        "\n",
        "confusion:\n",
        "\n",
        "            INDIVIDUAL  GROUP  OTHER  NOT\n",
        "INDIVIDUAL         353     53     27   38\n",
        "GROUP               44    207     49   21\n",
        "OTHER               40     50     69   17\n",
        "NOT                 16      7      7   38\n",
        "\"\"\"\n",
        "\n",
        "bilstm_final_2 =\"\"\"\n",
        "             precision    recall  f1-score   support\n",
        "  INDIVIDUAL     0.7468    0.7516    0.7492       471\n",
        "       GROUP     0.7251    0.4766    0.5752       321\n",
        "       OTHER     0.4057    0.4886    0.4433       176\n",
        "         NOT     0.2518    0.5147    0.3382        68\n",
        "\n",
        "    accuracy                         0.6062      1036\n",
        "   macro avg     0.5324    0.5579    0.5265      1036\n",
        "weighted avg     0.6497    0.6062    0.6163      1036\n",
        "\n",
        "confusion:\n",
        "\n",
        "            INDIVIDUAL  GROUP  OTHER  NOT\n",
        "INDIVIDUAL         354     24     39   54\n",
        "GROUP               58    153     79   31\n",
        "OTHER               45     26     86   19\n",
        "NOT                 17      8      8   35\n",
        "\"\"\"\n",
        "\n",
        "bilstm_final_3 =\"\"\"\n",
        "             precision    recall  f1-score   support\n",
        "  INDIVIDUAL     0.7143    0.8386    0.7715       471\n",
        "       GROUP     0.7045    0.5794    0.6359       321\n",
        "       OTHER     0.4697    0.3523    0.4026       176\n",
        "         NOT     0.3793    0.4853    0.4258        68\n",
        "\n",
        "    accuracy                         0.6525      1036\n",
        "   macro avg     0.5670    0.5639    0.5589      1036\n",
        "weighted avg     0.6477    0.6525    0.6441      1036\n",
        "\n",
        "confusion:\n",
        "\n",
        "            INDIVIDUAL  GROUP  OTHER  NOT\n",
        "INDIVIDUAL         395     35     15   26\n",
        "GROUP               72    186     48   15\n",
        "OTHER               63     38     62   13\n",
        "NOT                 23      5      7   33\n",
        "\"\"\"\n",
        "\n",
        "bilstm_final_4 =\"\"\"\n",
        "             precision    recall  f1-score   support\n",
        "  INDIVIDUAL     0.6683    0.8641    0.7537       471\n",
        "       GROUP     0.7269    0.5140    0.6022       321\n",
        "       OTHER     0.5229    0.3239    0.4000       176\n",
        "         NOT     0.2747    0.3676    0.3145        68\n",
        "\n",
        "    accuracy                         0.6313      1036\n",
        "   macro avg     0.5482    0.5174    0.5176      1036\n",
        "weighted avg     0.6359    0.6313    0.6178      1036\n",
        "\n",
        "confusion:\n",
        "\n",
        "            INDIVIDUAL  GROUP  OTHER  NOT\n",
        "INDIVIDUAL         407     26     12   26\n",
        "GROUP              101    165     33   22\n",
        "OTHER               71     30     57   18\n",
        "NOT                 30      6      7   25\n",
        "\"\"\"\n",
        "\n",
        "bilstm_final_5 =\"\"\"\n",
        "             precision    recall  f1-score   support\n",
        "  INDIVIDUAL     0.7818    0.7304    0.7552       471\n",
        "       GROUP     0.6372    0.6511    0.6441       321\n",
        "       OTHER     0.4438    0.4261    0.4348       176\n",
        "         NOT     0.3131    0.4559    0.3713        68\n",
        "\n",
        "    accuracy                         0.6361      1036\n",
        "   macro avg     0.5440    0.5659    0.5513      1036\n",
        "weighted avg     0.6488    0.6361    0.6411      1036\n",
        "\n",
        "confusion:\n",
        "\n",
        "            INDIVIDUAL  GROUP  OTHER  NOT\n",
        "INDIVIDUAL         344     61     30   36\n",
        "GROUP               38    209     56   18\n",
        "OTHER               37     50     75   14\n",
        "NOT                 21      8      8   31\n",
        "\"\"\"\n",
        "\n",
        "''\n",
        "\n",
        "\n",
        "confusion_heatmap(confusion_matrix(\n",
        "    *parse(bilstm_baseline_1, bilstm_baseline_2, bilstm_baseline_3, bilstm_baseline_4, bilstm_baseline_5)), colors='Blues')\n",
        "confusion_heatmap(confusion_matrix(\n",
        "    *parse(bilstm_final_1, bilstm_final_2, bilstm_final_3, bilstm_final_4, bilstm_final_5)), colors='Blues')\n",
        "\n",
        "parse_report(bilstm_baseline_1, bilstm_baseline_2, bilstm_baseline_3, bilstm_baseline_4, bilstm_baseline_5)\n",
        "parse_report(bilstm_final_1, bilstm_final_2, bilstm_final_3, bilstm_final_4, bilstm_final_5)"
      ],
      "execution_count": null,
      "outputs": [
        {
          "output_type": "display_data",
          "data": {
            "image/png": "[encoded data removed]",
            "text/plain": [
              "<Figure size 842.4x595.44 with 2 Axes>"
            ]
          },
          "metadata": {
            "tags": [],
            "needs_background": "light"
          }
        },
        {
          "output_type": "display_data",
          "data": {
            "image/png": "[encoded data removed]",
            "text/plain": [
              "<Figure size 842.4x595.44 with 2 Axes>"
            ]
          },
          "metadata": {
            "tags": [],
            "needs_background": "light"
          }
        },
        {
          "output_type": "stream",
          "text": [
            "        & precision & recall & f1-score & support \\\\ \\hline\n",
            "INDIVIDUAL   & 0.5977         & 0.8688      & 0.7077        & 471      \\\\\n",
            "GROUP        & 0.6375         & 0.4636      & 0.5327        & 321                      \\\\\n",
            "OTHER        & 0.3662         & 0.1852      & 0.2342       & 176                     \\\\\n",
            "NOT          & 0.4694        & 0.1794     & 0.2532       & 68 \\\\\n",
            "accuracy     &           &        & 0.5819       & 1036                     \\\\\n",
            "macro avg    & 0.5177        & 0.4243     & 0.4319       & 1036                     \\\\\n",
            "weighted avg & 0.5623        & 0.5819     & 0.5432       & 1036                                   \n",
            "             \n",
            "        & precision & recall & f1-score & support \\\\ \\hline\n",
            "INDIVIDUAL   & 0.7381         & 0.7868      & 0.7587        & 471      \\\\\n",
            "GROUP        & 0.6893         & 0.5732      & 0.6213        & 321                      \\\\\n",
            "OTHER        & 0.4592         & 0.3966      & 0.4203       & 176                     \\\\\n",
            "NOT          & 0.3104        & 0.4765     & 0.3735       & 68 \\\\\n",
            "accuracy     &           &        & 0.634       & 1036                     \\\\\n",
            "macro avg    & 0.5493        & 0.5583     & 0.5434       & 1036                     \\\\\n",
            "weighted avg & 0.6475        & 0.634     & 0.6333       & 1036                                   \n",
            "             \n"
          ],
          "name": "stdout"
        }
      ]
    },
    {
      "cell_type": "markdown",
      "metadata": {
        "id": "FbfeaCEc1eR7"
      },
      "source": [
        "### Visualizing"
      ]
    },
    {
      "cell_type": "code",
      "metadata": {
        "colab": {
          "base_uri": "https://localhost:8080/",
          "height": 754
        },
        "id": "A0fHn6Fb1beC",
        "outputId": "eb4d5f1b-59a5-4b9f-e510-ac3b0907888a"
      },
      "source": [
        "# visualize: model\n",
        "# model = build_model(word_model)\n",
        "\n",
        "tf.keras.utils.plot_model(\n",
        "    model,\n",
        "    to_file=\"model.png\",\n",
        "    show_shapes=True,\n",
        "    show_dtype=False,\n",
        "    show_layer_names=False,\n",
        "    rankdir=\"TB\", # LR\n",
        "    expand_nested=True,\n",
        "    dpi=96,\n",
        ")"
      ],
      "execution_count": null,
      "outputs": [
        {
          "output_type": "execute_result",
          "data": {
            "image/png": "[encoded data removed]",
            "text/plain": [
              "<IPython.core.display.Image object>"
            ]
          },
          "metadata": {
            "tags": []
          },
          "execution_count": 43
        }
      ]
    },
    {
      "cell_type": "markdown",
      "metadata": {
        "id": "S3gGStu01cp5"
      },
      "source": [
        "### Saving/Loading\n",
        "Can be used to store and load weights, and continue training"
      ]
    },
    {
      "cell_type": "code",
      "metadata": {
        "id": "CoFZ1zVq7IlI"
      },
      "source": [
        "model.save('bilstm.h5')"
      ],
      "execution_count": null,
      "outputs": []
    },
    {
      "cell_type": "code",
      "metadata": {
        "colab": {
          "base_uri": "https://localhost:8080/"
        },
        "id": "fyTg5duv7kFP",
        "outputId": "161c465e-c57b-4db7-bb8d-af54a3e99728"
      },
      "source": [
        "model = tf.keras.models.load_model('bilstm.h5')\n",
        "model.evaluate(X_test, y_test)"
      ],
      "execution_count": null,
      "outputs": [
        {
          "output_type": "stream",
          "text": [
            "WARNING:tensorflow:Layer lstm_2 will not use cuDNN kernel since it doesn't meet the cuDNN kernel criteria. It will use generic GPU kernel as fallback when running on GPU\n"
          ],
          "name": "stdout"
        },
        {
          "output_type": "stream",
          "text": [
            "WARNING:tensorflow:Layer lstm_2 will not use cuDNN kernel since it doesn't meet the cuDNN kernel criteria. It will use generic GPU kernel as fallback when running on GPU\n"
          ],
          "name": "stderr"
        },
        {
          "output_type": "stream",
          "text": [
            "WARNING:tensorflow:Layer lstm_2 will not use cuDNN kernel since it doesn't meet the cuDNN kernel criteria. It will use generic GPU kernel as fallback when running on GPU\n"
          ],
          "name": "stdout"
        },
        {
          "output_type": "stream",
          "text": [
            "WARNING:tensorflow:Layer lstm_2 will not use cuDNN kernel since it doesn't meet the cuDNN kernel criteria. It will use generic GPU kernel as fallback when running on GPU\n"
          ],
          "name": "stderr"
        },
        {
          "output_type": "stream",
          "text": [
            "WARNING:tensorflow:Layer lstm_2 will not use cuDNN kernel since it doesn't meet the cuDNN kernel criteria. It will use generic GPU kernel as fallback when running on GPU\n"
          ],
          "name": "stdout"
        },
        {
          "output_type": "stream",
          "text": [
            "WARNING:tensorflow:Layer lstm_2 will not use cuDNN kernel since it doesn't meet the cuDNN kernel criteria. It will use generic GPU kernel as fallback when running on GPU\n"
          ],
          "name": "stderr"
        },
        {
          "output_type": "stream",
          "text": [
            "8/8 [==============================] - 3s 262ms/step - loss: 0.4679 - accuracy: 0.6245\n"
          ],
          "name": "stdout"
        },
        {
          "output_type": "execute_result",
          "data": {
            "text/plain": [
              "[0.46792522072792053, 0.624454140663147]"
            ]
          },
          "metadata": {
            "tags": []
          },
          "execution_count": 68
        }
      ]
    },
    {
      "cell_type": "code",
      "metadata": {
        "colab": {
          "base_uri": "https://localhost:8080/"
        },
        "id": "fd5uYFlL8d-w",
        "outputId": "969392da-bc12-4721-c534-6fa43b3ada17"
      },
      "source": [
        "# run(model, epochs=1)\n",
        "model.evaluate(X_test, y_test)\n",
        "evaluate_report(model, X_test, y_test)"
      ],
      "execution_count": null,
      "outputs": [
        {
          "output_type": "stream",
          "text": [
            "8/8 [==============================] - 2s 268ms/step - loss: 0.3396 - accuracy: 0.6550\n",
            "              precision    recall  f1-score   support\n",
            "\n",
            "  INDIVIDUAL     0.5328    1.0000    0.6952       122\n",
            "       GROUP     0.0000    0.0000    0.0000        81\n",
            "       OTHER     0.0000    0.0000    0.0000        26\n",
            "         NOT     0.0000    0.0000    0.0000         0\n",
            "\n",
            "   micro avg     0.5328    0.5328    0.5328       229\n",
            "   macro avg     0.1332    0.2500    0.1738       229\n",
            "weighted avg     0.2838    0.5328    0.3703       229\n",
            "\n"
          ],
          "name": "stdout"
        },
        {
          "output_type": "stream",
          "text": [
            "/usr/local/lib/python3.7/dist-packages/sklearn/metrics/_classification.py:1272: UndefinedMetricWarning: Precision and F-score are ill-defined and being set to 0.0 in labels with no predicted samples. Use `zero_division` parameter to control this behavior.\n",
            "  _warn_prf(average, modifier, msg_start, len(result))\n",
            "/usr/local/lib/python3.7/dist-packages/sklearn/metrics/_classification.py:1272: UndefinedMetricWarning: Recall and F-score are ill-defined and being set to 0.0 in labels with no true samples. Use `zero_division` parameter to control this behavior.\n",
            "  _warn_prf(average, modifier, msg_start, len(result))\n"
          ],
          "name": "stderr"
        }
      ]
    },
    {
      "cell_type": "markdown",
      "metadata": {
        "id": "9snEZvH7bLd-"
      },
      "source": [
        "# BERT"
      ]
    },
    {
      "cell_type": "markdown",
      "metadata": {
        "id": "lJq-F6w7ImMY"
      },
      "source": [
        "## Functions"
      ]
    },
    {
      "cell_type": "code",
      "metadata": {
        "id": "mfFPb76mbPr_"
      },
      "source": [
        "EPOCHS = 1\n",
        "\n",
        "BERTje_baseline_config = {\n",
        "    'name': 'BERTje baseline',\n",
        "\n",
        "    'model': 'GroNLP/bert-base-dutch-cased',\n",
        "    'type': 'bert',\n",
        "    'train_batch_size': 8, # default \n",
        "    'learning_rate': 4e-5, # default\n",
        "}\n",
        "\n",
        "BERTje_config = {\n",
        "    'name': 'BERTje',\n",
        "\n",
        "    'model': 'GroNLP/bert-base-dutch-cased',\n",
        "    'type': 'bert',\n",
        "    'train_batch_size': 4,\n",
        "    'learning_rate': 6e-5,\n",
        "}\n",
        "\n",
        "RobBERT_baseline_config = {\n",
        "    'name': 'RobBERT baseline',\n",
        "\n",
        "    'model': 'pdelobelle/robbert-v2-dutch-base',\n",
        "    'type': 'roberta',\n",
        "    'train_batch_size': 8, # default\n",
        "    'learning_rate': 4e-5, # default\n",
        "}\n",
        "\n",
        "RobBERT_config = {\n",
        "    'name': 'RobBERT',\n",
        "\n",
        "    'model': 'pdelobelle/robbert-v2-dutch-base',\n",
        "    'type': 'roberta',\n",
        "    'train_batch_size': 4,\n",
        "    'learning_rate': 4e-5,\n",
        "}\n",
        "\n",
        "\n",
        "def train_bert(from_epoch=False, epochs=EPOCHS, config=BERTje_config):\n",
        "    print('using model', config['name'])\n",
        "\n",
        "    # Optional model configuration\n",
        "    model_args = ClassificationArgs(\n",
        "        overwrite_output_dir=True,\n",
        "\n",
        "        do_lower_case=False, # BERTje is cased, so disable lowercase\n",
        "\n",
        "        save_steps=-1, # save storage space\n",
        "\n",
        "        train_batch_size=config['train_batch_size'], # played with 4, 16, default (8)\n",
        "        learning_rate=config['learning_rate'], # played with 6e-5, 5e-5, 2e-5, 1e-5, default (4e-5)\n",
        "        )\n",
        "\n",
        "    model_args.num_train_epochs=epochs\n",
        "\n",
        "    # allow to continue from previous model:\n",
        "    model = \"/content/outputs\" if from_epoch else config['model']\n",
        "\n",
        "    # Create a ClassificationModel\n",
        "    model = ClassificationModel(\n",
        "        config['type'], \n",
        "        model,\n",
        "\n",
        "        num_labels=len(LABELS),\n",
        "        args=model_args,\n",
        "\n",
        "        use_cuda=True, # much faster to use GPU\n",
        "    )\n",
        "\n",
        "    # Train the model\n",
        "    if epochs:\n",
        "        model.train_model(train_df)\n",
        "\n",
        "    return model"
      ],
      "execution_count": null,
      "outputs": []
    },
    {
      "cell_type": "code",
      "metadata": {
        "id": "BEbTeDHdBFnL"
      },
      "source": [
        "def load_bert():\n",
        "    # load BERT from /content/outputs without training\n",
        "    return train_bert(1, 0)"
      ],
      "execution_count": null,
      "outputs": []
    },
    {
      "cell_type": "code",
      "metadata": {
        "id": "O8OLAL_Fb4LH"
      },
      "source": [
        "def evaluate_bert(model, df=None):\n",
        "    # run evaluation for BERT\n",
        "\n",
        "    metrics = {\n",
        "        'accuracy': sklearn.metrics.accuracy_score,\n",
        "        'all': classification_report,\n",
        "        'confusion': confusion,\n",
        "    }\n",
        "\n",
        "    if df is None:\n",
        "        df = test_df\n",
        "\n",
        "    result, model_outputs, wrong_predictions = model.eval_model(df, **metrics)\n",
        "\n",
        "    return result"
      ],
      "execution_count": null,
      "outputs": []
    },
    {
      "cell_type": "code",
      "metadata": {
        "id": "xX18-o8u-aej"
      },
      "source": [
        "def store_bert(acc, info):\n",
        "    # can be used to store model to drive,\n",
        "    # (disabled for speed)\n",
        "    return False\n",
        "    \n",
        "    acc = \"%.4f\" % round(acc, 4) # <- round with trailing 0/padding at the end\n",
        "    os.system('rm outputs/checkpoint-* -r')\n",
        "    os.system(f'zip -r BERT-{acc}-model.zip outputs')\n",
        "    os.system(f'mv BERT-{acc}-model.zip {DRIVE}')\n",
        "    with open(f'{DRIVE}BERT-{acc}-info.txt', 'w') as f:\n",
        "        yaml.dump(info, f)"
      ],
      "execution_count": null,
      "outputs": []
    },
    {
      "cell_type": "code",
      "metadata": {
        "id": "1Km_HBTH-HQ8"
      },
      "source": [
        "def find_optimal_bert(n=5, _from=0, _save=True, config=None):\n",
        "    # run evaluation after each epoch to find the optimal amount of epochs\n",
        "\n",
        "    best_acc = 0\n",
        "    for epoch in range(_from, n+_from):\n",
        "        print(f'epoch {epoch+1}')\n",
        "        model = train_bert(epoch, config=config) # epoch 0 = new, 1+ = continue\n",
        "        scores = evaluate_bert(model)\n",
        "        if scores['accuracy'] > best_acc:\n",
        "            print('high score!')\n",
        "            best_acc = round(scores['accuracy'], 4)\n",
        "            if _save:\n",
        "                store_bert(best_acc, {'epoch': epoch + 1, 'acc': str(scores['accuracy']), 'now': str(datetime.datetime.utcnow())})\n",
        "        print(scores['accuracy'])\n",
        "        print(scores['all'])\n",
        "\n",
        "    print('done', best_acc)"
      ],
      "execution_count": null,
      "outputs": []
    },
    {
      "cell_type": "markdown",
      "metadata": {
        "id": "TbHG2J6nInlo"
      },
      "source": [
        "## Using"
      ]
    },
    {
      "cell_type": "code",
      "metadata": {
        "id": "UScJ4YNnT1j4"
      },
      "source": [
        "# BERTje baseline test\n",
        "\n",
        "for _ in range(5):\n",
        "    b_model = train_bert(0, 1, config=BERTje_baseline_config)\n",
        "    b_eval = evaluate_bert(b_model, eval_df)\n",
        "    print(b_eval['all'])\n",
        "    print(b_eval['confusion'])"
      ],
      "execution_count": null,
      "outputs": []
    },
    {
      "cell_type": "code",
      "metadata": {
        "id": "jOa6gbuUAU_7"
      },
      "source": [
        "# BERTje (dev)\n",
        "find_optimal_bert(10, config=BERTje_config)"
      ],
      "execution_count": null,
      "outputs": []
    },
    {
      "cell_type": "code",
      "metadata": {
        "id": "dBbANZ1RSgrT"
      },
      "source": [
        "# BERTje (test)\n",
        "for _ in range(5):\n",
        "    # 5 runs for test\n",
        "    print(_)\n",
        "    b_model = train_bert(0, 3, config=BERTje_config) # new model with 3 epochs\n",
        "    b_eval = evaluate_bert(b_model, eval_df)\n",
        "    print(b_eval['all'])\n",
        "    print(b_eval['confusion'])"
      ],
      "execution_count": null,
      "outputs": []
    },
    {
      "cell_type": "code",
      "metadata": {
        "id": "g1ZY1N_YUIQi"
      },
      "source": [
        "# RobBERT baseline test\n",
        "\n",
        "for _ in range(5):\n",
        "    b_model = train_bert(0, 1, config=RobBERT_baseline_config)\n",
        "    b_eval = evaluate_bert(b_model, eval_df)\n",
        "    print(b_eval['all'])\n",
        "    print(b_eval['confusion'])"
      ],
      "execution_count": null,
      "outputs": []
    },
    {
      "cell_type": "code",
      "metadata": {
        "id": "t7UGUaNUSlNw"
      },
      "source": [
        "# RobBERT (dev)\n",
        "find_optimal_bert(10, config=RobBERT_config)"
      ],
      "execution_count": null,
      "outputs": []
    },
    {
      "cell_type": "code",
      "metadata": {
        "id": "gx0mq3X45z2M"
      },
      "source": [
        "# RobBERT (test)\n",
        "eval_df_robbert = eval_df.copy()\n",
        "for i, tweet in eval_df_robbert.iterrows():\n",
        "    # remove newlines for RobBERT\n",
        "    eval_df_robbert.loc[i, 'text'] = tweet.text.replace('\\n', ' ')\n",
        "\n",
        "for _ in range(5):\n",
        "    # 5 runs for test\n",
        "    print(_)\n",
        "    b_model = train_bert(False, 4, config=RobBERT_config) # epoch 0 = new, 1+ = continue; run 1 epoch\n",
        "    b_eval = evaluate_bert(b_model, eval_df_robbert)\n",
        "    print(b_eval['all'])\n",
        "    print(b_eval['confusion'])"
      ],
      "execution_count": null,
      "outputs": []
    },
    {
      "cell_type": "code",
      "metadata": {
        "colab": {
          "base_uri": "https://localhost:8080/",
          "height": 1000
        },
        "id": "fbYYwAxEbrfP",
        "outputId": "dad1782c-223b-413a-acc7-a2d0640763a7"
      },
      "source": [
        "# BERTje saved scores\n",
        "\n",
        "bert_base_1 = \"\"\"\n",
        "              precision    recall  f1-score   support\n",
        "\n",
        "  INDIVIDUAL     0.6822    0.9023    0.7770       471\n",
        "       GROUP     0.7113    0.6293    0.6678       321\n",
        "       OTHER     0.5043    0.3295    0.3986       176\n",
        "         NOT     0.7143    0.1471    0.2439        68\n",
        "\n",
        "    accuracy                         0.6708      1036\n",
        "   macro avg     0.6530    0.5021    0.5218      1036\n",
        "weighted avg     0.6631    0.6708    0.6439      1036\n",
        "\n",
        "confusion:\n",
        "\n",
        "            INDIVIDUAL  GROUP  OTHER  NOT\n",
        "INDIVIDUAL         425     26     18    2\n",
        "GROUP               88    202     30    1\n",
        "OTHER               71     46     58    1\n",
        "NOT                 39     10      9   10\n",
        "\"\"\"\n",
        "\n",
        "bert_base_2 = \"\"\"\n",
        "              precision    recall  f1-score   support\n",
        "\n",
        "  INDIVIDUAL     0.6941    0.8960    0.7822       471\n",
        "       GROUP     0.7204    0.6262    0.6700       321\n",
        "       OTHER     0.5036    0.3920    0.4409       176\n",
        "         NOT     0.6667    0.1176    0.2000        68\n",
        "\n",
        "    accuracy                         0.6757      1036\n",
        "   macro avg     0.6462    0.5080    0.5233      1036\n",
        "weighted avg     0.6681    0.6757    0.6512      1036\n",
        "\n",
        "confusion:\n",
        "\n",
        "            INDIVIDUAL  GROUP  OTHER  NOT\n",
        "INDIVIDUAL         422     28     19    2\n",
        "GROUP               81    201     38    1\n",
        "OTHER               63     43     69    1\n",
        "NOT                 42      7     11    8\n",
        "\"\"\"\n",
        "\n",
        "bert_base_3 = \"\"\"\n",
        "              precision    recall  f1-score   support\n",
        "\n",
        "  INDIVIDUAL     0.7605    0.8493    0.8024       471\n",
        "       GROUP     0.6469    0.7477    0.6936       321\n",
        "       OTHER     0.5126    0.3466    0.4136       176\n",
        "         NOT     0.5500    0.1618    0.2500        68\n",
        "\n",
        "    accuracy                         0.6873      1036\n",
        "   macro avg     0.6175    0.5263    0.5399      1036\n",
        "weighted avg     0.6694    0.6873    0.6664      1036\n",
        "\n",
        "confusion:\n",
        "\n",
        "            INDIVIDUAL  GROUP  OTHER  NOT\n",
        "INDIVIDUAL         400     51     18    2\n",
        "GROUP               53    240     27    1\n",
        "OTHER               44     65     61    6\n",
        "NOT                 29     15     13   11\n",
        "\"\"\"\n",
        "\n",
        "bert_base_4 = \"\"\"\n",
        "              precision    recall  f1-score   support\n",
        "\n",
        "  INDIVIDUAL     0.7123    0.8832    0.7886       471\n",
        "       GROUP     0.6824    0.6760    0.6792       321\n",
        "       OTHER     0.5207    0.3580    0.4242       176\n",
        "         NOT     0.3846    0.0735    0.1235        68\n",
        "\n",
        "    accuracy                         0.6766      1036\n",
        "   macro avg     0.5750    0.4977    0.5039      1036\n",
        "weighted avg     0.6490    0.6766    0.6492      1036\n",
        "\n",
        "confusion:\n",
        "\n",
        "            INDIVIDUAL  GROUP  OTHER  NOT\n",
        "INDIVIDUAL         416     34     18    3\n",
        "GROUP               72    217     30    2\n",
        "OTHER               56     54     63    3\n",
        "NOT                 40     13     10    5\n",
        "\"\"\"\n",
        "\n",
        "bert_base_5 = \"\"\"\n",
        "              precision    recall  f1-score   support\n",
        "\n",
        "  INDIVIDUAL     0.7247    0.8662    0.7892       471\n",
        "       GROUP     0.7152    0.6885    0.7016       321\n",
        "       OTHER     0.4718    0.3807    0.4214       176\n",
        "         NOT     0.4091    0.1324    0.2000        68\n",
        "\n",
        "    accuracy                         0.6805      1036\n",
        "   macro avg     0.5802    0.5169    0.5280      1036\n",
        "weighted avg     0.6581    0.6805    0.6609      1036\n",
        "\n",
        "confusion:\n",
        "\n",
        "            INDIVIDUAL  GROUP  OTHER  NOT\n",
        "INDIVIDUAL         408     29     27    7\n",
        "GROUP               59    221     39    2\n",
        "OTHER               59     46     67    4\n",
        "NOT                 37     13      9    9\n",
        "\"\"\"\n",
        "\n",
        "bert_improved_1 = \"\"\"\n",
        "              precision    recall  f1-score   support\n",
        "\n",
        "  INDIVIDUAL     0.8017    0.7813    0.7914       471\n",
        "       GROUP     0.7097    0.6854    0.6973       321\n",
        "       OTHER     0.5584    0.4886    0.5212       176\n",
        "         NOT     0.3717    0.6176    0.4641        68\n",
        "\n",
        "    accuracy                         0.6911      1036\n",
        "   macro avg     0.6104    0.6432    0.6185      1036\n",
        "weighted avg     0.7037    0.6911    0.6949      1036\n",
        "\n",
        "confusion:\n",
        "\n",
        "            INDIVIDUAL  GROUP  OTHER  NOT\n",
        "INDIVIDUAL         368     45     26   32\n",
        "GROUP               51    220     31   19\n",
        "OTHER               29     41     86   20\n",
        "NOT                 11      4     11   42\n",
        "\"\"\"\n",
        "\n",
        "bert_improved_2 = \"\"\"\n",
        "              precision    recall  f1-score   support\n",
        "\n",
        "  INDIVIDUAL     0.7695    0.8153    0.7918       471\n",
        "       GROUP     0.7235    0.6604    0.6906       321\n",
        "       OTHER     0.6165    0.4659    0.5307       176\n",
        "         NOT     0.3604    0.5882    0.4469        68\n",
        "\n",
        "    accuracy                         0.6931      1036\n",
        "   macro avg     0.6175    0.6325    0.6150      1036\n",
        "weighted avg     0.7024    0.6931    0.6934      1036\n",
        "\n",
        "confusion:\n",
        "\n",
        "            INDIVIDUAL  GROUP  OTHER  NOT\n",
        "INDIVIDUAL         384     37     18   32\n",
        "GROUP               62    212     29   18\n",
        "OTHER               32     41     82   21\n",
        "NOT                 21      3      4   40\n",
        "\"\"\"\n",
        "\n",
        "bert_improved_3 = \"\"\"\n",
        "              precision    recall  f1-score   support\n",
        "\n",
        "  INDIVIDUAL     0.8042    0.8195    0.8118       471\n",
        "       GROUP     0.7110    0.6667    0.6881       321\n",
        "       OTHER     0.6194    0.4716    0.5355       176\n",
        "         NOT     0.3884    0.6912    0.4974        68\n",
        "\n",
        "    accuracy                         0.7046      1036\n",
        "   macro avg     0.6307    0.6622    0.6332      1036\n",
        "weighted avg     0.7166    0.7046    0.7059      1036\n",
        "\n",
        "confusion:\n",
        "\n",
        "            INDIVIDUAL  GROUP  OTHER  NOT\n",
        "INDIVIDUAL         386     39     19   27\n",
        "GROUP               55    214     26   26\n",
        "OTHER               29     43     83   21\n",
        "NOT                 10      5      6   47\n",
        "\"\"\"\n",
        "\n",
        "bert_improved_4 = \"\"\"\n",
        "              precision    recall  f1-score   support\n",
        "\n",
        "  INDIVIDUAL     0.7921    0.8089    0.8004       471\n",
        "       GROUP     0.7122    0.6168    0.6611       321\n",
        "       OTHER     0.5484    0.4830    0.5136       176\n",
        "         NOT     0.3361    0.6029    0.4316        68\n",
        "\n",
        "    accuracy                         0.6805      1036\n",
        "   macro avg     0.5972    0.6279    0.6017      1036\n",
        "weighted avg     0.6960    0.6805    0.6843      1036\n",
        "\n",
        "confusion:\n",
        "\n",
        "            INDIVIDUAL  GROUP  OTHER  NOT\n",
        "INDIVIDUAL         381     37     19   34\n",
        "GROUP               58    198     42   23\n",
        "OTHER               28     39     85   24\n",
        "NOT                 14      4      9   41\n",
        "\"\"\"\n",
        "\n",
        "bert_improved_5 = \"\"\"\n",
        "              precision    recall  f1-score   support\n",
        "\n",
        "  INDIVIDUAL     0.7878    0.7962    0.7920       471\n",
        "       GROUP     0.7285    0.6854    0.7063       321\n",
        "       OTHER     0.6127    0.4943    0.5472       176\n",
        "         NOT     0.3879    0.6618    0.4891        68\n",
        "\n",
        "    accuracy                         0.7017      1036\n",
        "   macro avg     0.6292    0.6594    0.6336      1036\n",
        "weighted avg     0.7134    0.7017    0.7040      1036\n",
        "\n",
        "confusion:\n",
        "\n",
        "            INDIVIDUAL  GROUP  OTHER  NOT\n",
        "INDIVIDUAL         375     40     19   37\n",
        "GROUP               48    220     31   22\n",
        "OTHER               40     37     87   12\n",
        "NOT                 13      5      5   45\n",
        "\n",
        "\"\"\"\n",
        "\n",
        "confusion_heatmap(confusion_matrix(\n",
        "    *parse(bert_base_1, bert_base_2, bert_base_3, bert_base_4, bert_base_5)), colors='Oranges')\n",
        "confusion_heatmap(confusion_matrix(\n",
        "    *parse(bert_improved_1, bert_improved_2, bert_improved_3, bert_improved_4, bert_improved_5)), colors='Oranges')\n",
        "\n",
        "\n",
        "parse_report(bert_base_1, bert_base_2, bert_base_3, bert_base_4, bert_base_5)\n",
        "parse_report(bert_improved_1, bert_improved_2, bert_improved_3, bert_improved_4, bert_improved_5)"
      ],
      "execution_count": null,
      "outputs": [
        {
          "output_type": "display_data",
          "data": {
            "image/png": "[encoded data removed]",
            "text/plain": [
              "<Figure size 842.4x595.44 with 2 Axes>"
            ]
          },
          "metadata": {
            "tags": [],
            "needs_background": "light"
          }
        },
        {
          "output_type": "display_data",
          "data": {
            "image/png": "[encoded data removed]",
            "text/plain": [
              "<Figure size 842.4x595.44 with 2 Axes>"
            ]
          },
          "metadata": {
            "tags": [],
            "needs_background": "light"
          }
        },
        {
          "output_type": "stream",
          "text": [
            "        & precision & recall & f1-score & support \\\\ \\hline\n",
            "INDIVIDUAL   & 0.7148         & 0.8794      & 0.7879        & 471      \\\\\n",
            "GROUP        & 0.6952         & 0.6735      & 0.6824        & 321                      \\\\\n",
            "OTHER        & 0.5026         & 0.3614      & 0.4197       & 176                     \\\\\n",
            "NOT          & 0.5449        & 0.1265     & 0.2035       & 68 \\\\\n",
            "accuracy     &           &        & 0.6782       & 1036                     \\\\\n",
            "macro avg    & 0.6144        & 0.5102     & 0.5234       & 1036                     \\\\\n",
            "weighted avg & 0.6615        & 0.6782     & 0.6543       & 1036                                   \n",
            "             \n",
            "        & precision & recall & f1-score & support \\\\ \\hline\n",
            "INDIVIDUAL   & 0.7911         & 0.8042      & 0.7975        & 471      \\\\\n",
            "GROUP        & 0.717         & 0.6629      & 0.6887        & 321                      \\\\\n",
            "OTHER        & 0.5911         & 0.4807      & 0.5296       & 176                     \\\\\n",
            "NOT          & 0.3689        & 0.6323     & 0.4658       & 68 \\\\\n",
            "accuracy     &           &        & 0.6942       & 1036                     \\\\\n",
            "macro avg    & 0.617        & 0.645     & 0.6204       & 1036                     \\\\\n",
            "weighted avg & 0.7064        & 0.6942     & 0.6965       & 1036                                   \n",
            "             \n"
          ],
          "name": "stdout"
        }
      ]
    },
    {
      "cell_type": "code",
      "metadata": {
        "colab": {
          "base_uri": "https://localhost:8080/",
          "height": 1000
        },
        "id": "oAGjMMGTJeR-",
        "outputId": "7625535d-c6ec-4425-8474-c60631ed0447"
      },
      "source": [
        "# RobBERT scores saved\n",
        "\n",
        "robbert_base_1 = \"\"\"\n",
        "              precision    recall  f1-score   support\n",
        "\n",
        "  INDIVIDUAL     0.7405    0.8662    0.7984       471\n",
        "       GROUP     0.7492    0.7072    0.7276       321\n",
        "       OTHER     0.5522    0.4205    0.4774       176\n",
        "         NOT     0.5208    0.3676    0.4310        68\n",
        "\n",
        "    accuracy                         0.7085      1036\n",
        "   macro avg     0.6407    0.5904    0.6086      1036\n",
        "weighted avg     0.6968    0.7085    0.6978      1036\n",
        "\n",
        "confusion:\n",
        "\n",
        "            INDIVIDUAL  GROUP  OTHER  NOT\n",
        "INDIVIDUAL         408     32     22    9\n",
        "GROUP               58    227     27    9\n",
        "OTHER               54     43     74    5\n",
        "NOT                 31      1     11   25\n",
        "\"\"\"\n",
        "\n",
        "robbert_base_2 = \"\"\"\n",
        "              precision    recall  f1-score   support\n",
        "\n",
        "  INDIVIDUAL     0.7650    0.8365    0.7992       471\n",
        "       GROUP     0.7256    0.7414    0.7334       321\n",
        "       OTHER     0.5520    0.3920    0.4585       176\n",
        "         NOT     0.4265    0.4265    0.4265        68\n",
        "\n",
        "    accuracy                         0.7046      1036\n",
        "   macro avg     0.6173    0.5991    0.6044      1036\n",
        "weighted avg     0.6944    0.7046    0.6965      1036\n",
        "\n",
        "confusion:\n",
        "\n",
        "            INDIVIDUAL  GROUP  OTHER  NOT\n",
        "INDIVIDUAL         394     37     20   20\n",
        "GROUP               45    238     27   11\n",
        "OTHER               52     47     69    8\n",
        "NOT                 24      6      9   29\n",
        "\"\"\"\n",
        "\n",
        "robbert_base_3 = \"\"\"\n",
        "              precision    recall  f1-score   support\n",
        "\n",
        "  INDIVIDUAL     0.7588    0.8684    0.8099       471\n",
        "       GROUP     0.7316    0.7134    0.7224       321\n",
        "       OTHER     0.5000    0.4148    0.4534       176\n",
        "         NOT     0.4737    0.2647    0.3396        68\n",
        "\n",
        "    accuracy                         0.7037      1036\n",
        "   macro avg     0.6160    0.5653    0.5813      1036\n",
        "weighted avg     0.6877    0.7037    0.6914      1036\n",
        "\n",
        "confusion:\n",
        "\n",
        "            INDIVIDUAL  GROUP  OTHER  NOT\n",
        "INDIVIDUAL         409     30     24    8\n",
        "GROUP               49    229     38    5\n",
        "OTHER               50     46     73    7\n",
        "NOT                 31      8     11   18\n",
        "\"\"\"\n",
        "\n",
        "robbert_base_4 = \"\"\"\n",
        "              precision    recall  f1-score   support\n",
        "\n",
        "  INDIVIDUAL     0.7490    0.8365    0.7904       471\n",
        "       GROUP     0.7372    0.7601    0.7485       321\n",
        "       OTHER     0.5324    0.4205    0.4698       176\n",
        "         NOT     0.5500    0.3235    0.4074        68\n",
        "\n",
        "    accuracy                         0.7085      1036\n",
        "   macro avg     0.6421    0.5852    0.6040      1036\n",
        "weighted avg     0.6955    0.7085    0.6978      1036\n",
        "\n",
        "confusion:\n",
        "\n",
        "            INDIVIDUAL  GROUP  OTHER  NOT\n",
        "INDIVIDUAL         394     36     27   14\n",
        "GROUP               49    244     26    2\n",
        "OTHER               57     43     74    2\n",
        "NOT                 26      8     12   22\n",
        "\"\"\"\n",
        "\n",
        "robbert_base_5 = \"\"\"\n",
        "              precision    recall  f1-score   support\n",
        "\n",
        "  INDIVIDUAL     0.7500    0.8471    0.7956       471\n",
        "       GROUP     0.7467    0.7072    0.7264       321\n",
        "       OTHER     0.5776    0.3807    0.4589       176\n",
        "         NOT     0.4048    0.5000    0.4474        68\n",
        "\n",
        "    accuracy                         0.7017      1036\n",
        "   macro avg     0.6198    0.6087    0.6071      1036\n",
        "weighted avg     0.6970    0.7017    0.6941      1036\n",
        "\n",
        "confusion:\n",
        "\n",
        "            INDIVIDUAL  GROUP  OTHER  NOT\n",
        "INDIVIDUAL         399     33     17   22\n",
        "GROUP               54    227     27   13\n",
        "OTHER               53     41     67   15\n",
        "NOT                 26      3      5   34\n",
        "\"\"\"\n",
        "\n",
        "robbert_improved_1 = \"\"\"\n",
        "              precision    recall  f1-score   support\n",
        "\n",
        "  INDIVIDUAL     0.7759    0.7941    0.7849       471\n",
        "       GROUP     0.7308    0.7103    0.7204       321\n",
        "       OTHER     0.5887    0.4716    0.5237       176\n",
        "         NOT     0.3663    0.5441    0.4379        68\n",
        "\n",
        "    accuracy                         0.6969      1036\n",
        "   macro avg     0.6154    0.6300    0.6167      1036\n",
        "weighted avg     0.7032    0.6969    0.6977      1036\n",
        "\n",
        "confusion:\n",
        "\n",
        "            INDIVIDUAL  GROUP  OTHER  NOT\n",
        "INDIVIDUAL         374     38     22   37\n",
        "GROUP               47    228     33   13\n",
        "OTHER               41     38     83   14\n",
        "NOT                 20      8      3   37\n",
        "\"\"\"\n",
        "\n",
        "robbert_improved_2 = \"\"\"\n",
        "              precision    recall  f1-score   support\n",
        "\n",
        "  INDIVIDUAL     0.7553    0.8323    0.7919       471\n",
        "       GROUP     0.7441    0.6885    0.7152       321\n",
        "       OTHER     0.5814    0.4261    0.4918       176\n",
        "         NOT     0.3736    0.5000    0.4277        68\n",
        "\n",
        "    accuracy                         0.6969      1036\n",
        "   macro avg     0.6136    0.6117    0.6067      1036\n",
        "weighted avg     0.6972    0.6969    0.6933      1036\n",
        "\n",
        "confusion:\n",
        "\n",
        "            INDIVIDUAL  GROUP  OTHER  NOT\n",
        "INDIVIDUAL         392     34     17   28\n",
        "GROUP               55    221     31   14\n",
        "OTHER               50     36     75   15\n",
        "NOT                 22      6      6   34\n",
        "\"\"\"\n",
        "\n",
        "robbert_improved_3 = \"\"\"\n",
        "              precision    recall  f1-score   support\n",
        "\n",
        "  INDIVIDUAL     0.7739    0.8068    0.7900       471\n",
        "       GROUP     0.7491    0.6698    0.7072       321\n",
        "       OTHER     0.5385    0.5170    0.5275       176\n",
        "         NOT     0.3820    0.5000    0.4331        68\n",
        "\n",
        "    accuracy                         0.6950      1036\n",
        "   macro avg     0.6109    0.6234    0.6145      1036\n",
        "weighted avg     0.7005    0.6950    0.6964      1036\n",
        "\n",
        "confusion:\n",
        "\n",
        "            INDIVIDUAL  GROUP  OTHER  NOT\n",
        "INDIVIDUAL         380     38     24   29\n",
        "GROUP               49    215     46   11\n",
        "OTHER               41     29     91   15\n",
        "NOT                 21      5      8   34\n",
        "\"\"\"\n",
        "\n",
        "robbert_improved_4 = \"\"\"\n",
        "              precision    recall  f1-score   support\n",
        "\n",
        "  INDIVIDUAL     0.7782    0.8195    0.7983       471\n",
        "       GROUP     0.7483    0.6947    0.7205       321\n",
        "       OTHER     0.6087    0.4773    0.5350       176\n",
        "         NOT     0.3846    0.5882    0.4651        68\n",
        "\n",
        "    accuracy                         0.7075      1036\n",
        "   macro avg     0.6300    0.6449    0.6298      1036\n",
        "weighted avg     0.7143    0.7075    0.7076      1036\n",
        "\n",
        "confusion:\n",
        "\n",
        "            INDIVIDUAL  GROUP  OTHER  NOT\n",
        "INDIVIDUAL         386     39     15   31\n",
        "GROUP               49    223     32   17\n",
        "OTHER               44     32     84   16\n",
        "NOT                 17      4      7   40\n",
        "\"\"\"\n",
        "\n",
        "robbert_improved_5 = \"\"\"\n",
        "              precision    recall  f1-score   support\n",
        "\n",
        "  INDIVIDUAL     0.7577    0.8365    0.7952       471\n",
        "       GROUP     0.7400    0.6916    0.7150       321\n",
        "       OTHER     0.6068    0.4034    0.4846       176\n",
        "         NOT     0.3737    0.5441    0.4431        68\n",
        "\n",
        "    accuracy                         0.6988      1036\n",
        "   macro avg     0.6196    0.6189    0.6095      1036\n",
        "weighted avg     0.7014    0.6988    0.6945      1036\n",
        "\n",
        "confusion:\n",
        "\n",
        "            INDIVIDUAL  GROUP  OTHER  NOT\n",
        "INDIVIDUAL         394     35     14   28\n",
        "GROUP               52    222     29   18\n",
        "OTHER               50     39     71   16\n",
        "NOT                 24      4      3   37\n",
        "\"\"\"\n",
        "\n",
        "\n",
        "# https://medium.com/@morganjonesartist/color-guide-to-seaborn-palettes-da849406d44f\n",
        "confusion_heatmap(confusion_matrix(\n",
        "    *parse(robbert_base_1, robbert_base_2, robbert_base_3, robbert_base_4, robbert_base_5)), \n",
        "    colors=['#fef2f9', '#fcdef0', '#fac6e5', '#ffb0e1', '#ff95d6', '#ff80ce', '#e76eb1', '#cd5a91'])\n",
        "\n",
        "confusion_heatmap(confusion_matrix(\n",
        "    *parse(robbert_improved_1, robbert_improved_2, robbert_improved_3, robbert_improved_4, robbert_improved_5)), \n",
        "    colors=['#fef2f9', '#fcdef0', '#fac6e5', '#ffb0e1', '#ff95d6', '#ff80ce', '#e76eb1', '#cd5a91'])\n",
        "\n",
        "parse_report(robbert_base_1, robbert_base_2, robbert_base_3, robbert_base_4, robbert_base_5)\n",
        "parse_report(robbert_improved_1, robbert_improved_2, robbert_improved_3, robbert_improved_4, robbert_improved_5)"
      ],
      "execution_count": null,
      "outputs": [
        {
          "output_type": "display_data",
          "data": {
            "image/png": "[encoded data removed]",
            "text/plain": [
              "<Figure size 842.4x595.44 with 2 Axes>"
            ]
          },
          "metadata": {
            "tags": [],
            "needs_background": "light"
          }
        },
        {
          "output_type": "display_data",
          "data": {
            "image/png": "[encoded data removed]",
            "text/plain": [
              "<Figure size 842.4x595.44 with 2 Axes>"
            ]
          },
          "metadata": {
            "tags": [],
            "needs_background": "light"
          }
        },
        {
          "output_type": "stream",
          "text": [
            "        & precision & recall & f1-score & support \\\\ \\hline\n",
            "INDIVIDUAL   & 0.7527         & 0.8509      & 0.7987        & 471      \\\\\n",
            "GROUP        & 0.7381         & 0.7259      & 0.7317        & 321                      \\\\\n",
            "OTHER        & 0.5428         & 0.4057      & 0.4636       & 176                     \\\\\n",
            "NOT          & 0.4752        & 0.3765     & 0.4104       & 68 \\\\\n",
            "accuracy     &           &        & 0.7054       & 1036                     \\\\\n",
            "macro avg    & 0.6272        & 0.5897     & 0.6011       & 1036                     \\\\\n",
            "weighted avg & 0.6943        & 0.7054     & 0.6955       & 1036                                   \n",
            "             \n",
            "        & precision & recall & f1-score & support \\\\ \\hline\n",
            "INDIVIDUAL   & 0.7682         & 0.8178      & 0.7921        & 471      \\\\\n",
            "GROUP        & 0.7425         & 0.691      & 0.7157        & 321                      \\\\\n",
            "OTHER        & 0.5848         & 0.4591      & 0.5125       & 176                     \\\\\n",
            "NOT          & 0.376        & 0.5353     & 0.4414       & 68 \\\\\n",
            "accuracy     &           &        & 0.699       & 1036                     \\\\\n",
            "macro avg    & 0.6179        & 0.6258     & 0.6154       & 1036                     \\\\\n",
            "weighted avg & 0.7033        & 0.699     & 0.6979       & 1036                                   \n",
            "             \n"
          ],
          "name": "stdout"
        }
      ]
    }
  ]
}